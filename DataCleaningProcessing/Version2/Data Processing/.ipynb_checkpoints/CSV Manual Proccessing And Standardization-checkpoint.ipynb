{
 "cells": [
  {
   "cell_type": "markdown",
   "metadata": {},
   "source": [
    "Main reason why this is manual because a lot of this data is very complex. Its filled with typo's, missing rows, additional rows/information thats not in other rows. Our main goal during the processing are the two:\n",
    "1. getting yourself used to the text and word choice used by the input person as they are somewhat consistent\n",
    "2. fix typos and merge certain categories - make it consistent\n",
    "\n",
    "\n",
    "Few important facts about the data:\n",
    "1. It appears the input was manual - many human errors\n",
    "2. all values are strings\n",
    "3. there are ranges for Time Occurred and Event Occurred\n",
    "    * youre going to have to handle it\n",
    "4. you should expect np.nan values for each column\n",
    "5. Sungod has a bunch of arrests that are mushed together\n",
    "    * none of these have event or location\n",
    "6. Some of the data are blacked out - we're missing some important information when someone is arrested - sequential case's event + disposition + arrest record for some of the people"
   ]
  },
  {
   "cell_type": "code",
   "execution_count": 1,
   "metadata": {},
   "outputs": [],
   "source": [
    "import pandas as pd\n",
    "import numpy as np\n",
    "import datetime as dt\n",
    "import os\n",
    "import re"
   ]
  },
  {
   "cell_type": "code",
   "execution_count": 2,
   "metadata": {},
   "outputs": [],
   "source": [
    "def manualchecking(df):\n",
    "    if os.path.isfile(\"event.txt\"):\n",
    "        os.remove(\"event.txt\")\n",
    "    if os.path.isfile(\"disposition.txt\"):\n",
    "        os.remove(\"disposition.txt\")\n",
    "    if os.path.isfile(\"location.txt\"):\n",
    "        os.remove(\"location.txt\")\n",
    "    with open(\"event.txt\", \"w\") as txt:\n",
    "        for i, n in zip(df.groupby(\"Event\").count().index, df.groupby(\"Event\").count()[\"Location\"]):\n",
    "            txt.write(f\"'{i}',\\n\")\n",
    "            #txt.write(f\"{i}~{n}\\n\")\n",
    "    with open(\"disposition.txt\", \"w\") as txt:\n",
    "        for i, n in zip(df.groupby(\"Disposition:\").count().index, df.groupby(\"Disposition:\").count()[\"Event\"]):\n",
    "            txt.write(f\"'{i}',\\n\")\n",
    "            #txt.write(f\"{i}~{n}\\n\")\n",
    "    with open(\"location.txt\", \"w\") as txt:\n",
    "        for i, n in zip(df.groupby(\"Location\").count().index, df.groupby(\"Location\").count()[\"Event\"]):\n",
    "            txt.write(f\"'{i}',\\n\")\n",
    "            #txt.write(f\"{i}~{n}\\n\")\n",
    "    \n",
    "            \n",
    "def printTxt(filename):\n",
    "    with open(filename, \"r\") as f:\n",
    "        print(f.read())\n",
    "        \n",
    "def searchAndReplace(find, replace, column, df):\n",
    "    df[column] = df[column].apply(lambda string: re.sub(find, replace, string) if pd.notnull(string) else string)"
   ]
  },
  {
   "cell_type": "code",
   "execution_count": 3,
   "metadata": {},
   "outputs": [],
   "source": [
    "data = pd.read_csv(\"multiCol.csv\")"
   ]
  },
  {
   "cell_type": "code",
   "execution_count": 4,
   "metadata": {
    "scrolled": false
   },
   "outputs": [],
   "source": [
    "#manualchecking(data)"
   ]
  },
  {
   "cell_type": "code",
   "execution_count": 5,
   "metadata": {
    "scrolled": true
   },
   "outputs": [],
   "source": [
    "#printTxt(\"event.txt\")"
   ]
  },
  {
   "cell_type": "markdown",
   "metadata": {},
   "source": [
    "Be very careful with this data. Its impossible to go back"
   ]
  },
  {
   "cell_type": "code",
   "execution_count": 6,
   "metadata": {},
   "outputs": [],
   "source": [
    "for c in data.columns:\n",
    "    searchAndReplace(r\"  \", \" \", c, data)\n",
    "    searchAndReplace(r\"‐\", \"-\", c, data) # special ‐ character to hyphen"
   ]
  },
  {
   "cell_type": "markdown",
   "metadata": {},
   "source": [
    "## EVENT"
   ]
  },
  {
   "cell_type": "code",
   "execution_count": 7,
   "metadata": {},
   "outputs": [],
   "source": [
    "searchAndReplace(r\"report of \", \"\", \"Event\", data)\n",
    "searchAndReplace(r\"attempted \", \"\", \"Event\", data)\n",
    "searchAndReplace(r\"-\", \" - \", \"Event\", data)\n",
    "searchAndReplace(r\":\", \" - \", \"Event\", data)\n",
    "searchAndReplace(r\",\", \" - \", \"Event\", data)\n",
    "searchAndReplace(r\"/\", \" - \", \"Event\", data)\n",
    "\n",
    "searchAndReplace(r\"hi & run\", \"hit and run\", \"Event\", data)\n",
    "searchAndReplace(r\"hit & run\", \"hit and run\", \"Event\", data)\n",
    "\n",
    "searchAndReplace(r\"&\", \" - \", \"Event\", data)\n",
    "\n",
    "searchAndReplace(r\"  \", \" \", \"Event\", data)\n",
    "searchAndReplace(r\"  \", \" \", \"Event\", data)"
   ]
  },
  {
   "cell_type": "code",
   "execution_count": 8,
   "metadata": {},
   "outputs": [],
   "source": [
    "incomplete_call = [\n",
    "    '1130 from a payphone',\n",
    "    '911 call',\n",
    "    '911 hang - up',\n",
    "    '911 hang - up from a payphone',\n",
    "    '911 hang - up from payphone',\n",
    "    '911 hangup',\n",
    "    'hang - up from payphone',\n",
    "    'incompete wireless call',\n",
    "    'incomplete 911 - wireless call',\n",
    "    'incomplete 911 call',\n",
    "    'incomplete 911 call - hang - up',\n",
    "    'incomplete 911 call from payphone',\n",
    "    'incomplete 911 phone call - hang up',\n",
    "    'incomplete call from pay phone',\n",
    "    'incomplete phone call',\n",
    "    'incomplete phone call 911 - hangup',\n",
    "    'incomplete phone call - 911 hang - up',\n",
    "    'incomplete phone call - 911 hang up',\n",
    "    'incomplete phone call - 911 hangup',\n",
    "    'incomplete phone call - from pay phone',\n",
    "    'incomplete phone call 911 - hangup',\n",
    "    'incomplete phone call 911 hang - up',\n",
    "    'incomplete phone call 911 hang up',\n",
    "    'incomplete phone call from a payphone',\n",
    "    'incomplete phone call from call box',\n",
    "    'incomplete phone call from pay phone',\n",
    "    'incomplete phone call from payphone',\n",
    "    'incomplete phone cell - 911 hang - up',\n",
    "    'incomplete wireless',\n",
    "    'incomplete wireless 911',\n",
    "    'incomplete wireless 911 call',\n",
    "    'incomplete wireless 911 call - hang - up',\n",
    "    'incomplete wireless call',\n",
    "    'incomplete wireless call - 911 hang - up',\n",
    "    'incomplete phone call 911 - hangup'\n",
    "    ]\n",
    "for t in incomplete_call:\n",
    "    searchAndReplace(r\"^{}$\".format(t), \"incomplete call\", \"Event\", data)"
   ]
  },
  {
   "cell_type": "code",
   "execution_count": 9,
   "metadata": {},
   "outputs": [],
   "source": [
    "bicyclist_stop = [\n",
    "    'bicycle stop',\n",
    "    'bicyclist',\n",
    "    'bicyclist sop',\n",
    "    'bicyclist stop',\n",
    "    'bicyclist stoprussell lane - gilman drive'\n",
    "    ]\n",
    "bicycle_skateboard_stop = [\n",
    "    'bicyclist - skateboard stop',\n",
    "    'bicyclist - skateboard stops',\n",
    "    'bicyclist stop - skateboard stop',\n",
    "    'bike - skateboard enforcement'\n",
    "    ]\n",
    "skateboard_stop = [\n",
    "    'skateboard shop',\n",
    "    'skateboard stop'\n",
    "    ]\n",
    "for t in bicyclist_stop:\n",
    "    searchAndReplace(r\"^{}$\".format(t), \"bicyclist stop\", \"Event\", data)\n",
    "for t in bicycle_skateboard_stop:\n",
    "    searchAndReplace(r\"^{}$\".format(t), \"bicyclist stop/skateboarder stop\", \"Event\", data)\n",
    "for t in skateboard_stop:\n",
    "    searchAndReplace(r\"^{}$\".format(t), \"skateboarder stop\", \"Event\", data)"
   ]
  },
  {
   "cell_type": "code",
   "execution_count": 10,
   "metadata": {},
   "outputs": [],
   "source": [
    "alcohol_contact = [\n",
    "    'alcohol cotnact',\n",
    "    'alcohol found',\n",
    "    \"minor consuming alcohol\"\n",
    "    ]\n",
    "for t in alcohol_contact:\n",
    "    searchAndReplace(r\"^{}$\".format(t), \"alcohol contact\", \"Event\", data)"
   ]
  },
  {
   "cell_type": "code",
   "execution_count": 11,
   "metadata": {},
   "outputs": [],
   "source": [
    "quiet_hour = [\n",
    "    'quiet hours',\n",
    "    'quiet hours check',\n",
    "    'quiet hours conntact',\n",
    "    'quiet hours contact',\n",
    "    'quiet hours contacted',\n",
    "    'quit hours contact',\n",
    "    'quite hours contact',\n",
    "]\n",
    "for t in quiet_hour:\n",
    "    searchAndReplace(r\"^{}$\".format(t), \"quiet hours contact\", \"Event\", data)"
   ]
  },
  {
   "cell_type": "code",
   "execution_count": 12,
   "metadata": {},
   "outputs": [],
   "source": [
    "identity_theft = [\n",
    "    \"acquiring personal information with intent to defraud\",\n",
    "    \"impersonate by electronic means\",\n",
    "    \"identity theft\"\n",
    "]\n",
    "for t in identity_theft:\n",
    "    searchAndReplace(r\"^{}$\".format(t), \"identity theft\", \"Event\", data)"
   ]
  },
  {
   "cell_type": "code",
   "execution_count": 13,
   "metadata": {},
   "outputs": [],
   "source": [
    "searchAndReplace(r\"acquiring personal information with intent to defraud\", \"quiet hours contact\", \"Event\", data)"
   ]
  },
  {
   "cell_type": "code",
   "execution_count": 14,
   "metadata": {},
   "outputs": [],
   "source": [
    "assist_other_agency = [\n",
    "    'agency assist',\n",
    "    'outside agency assist'\n",
    "    ]\n",
    "for t in assist_other_agency:\n",
    "    searchAndReplace(r\"^{}$\".format(t), \"assist other agency\", \"Event\", data)"
   ]
  },
  {
   "cell_type": "code",
   "execution_count": 15,
   "metadata": {},
   "outputs": [],
   "source": [
    "harrasing_messages = [\n",
    "    'annonying - harrasing phone calls - texts',\n",
    "    'annoying - harassing messages',\n",
    "    'annoying - harassing phone',\n",
    "    'annoying - harassing phone call'\n",
    "    'annoying - harassing phone calls',\n",
    "    'annoying phone calls',\n",
    "    'annoying phone calls - emails',\n",
    "    'annoying repeat calls'\n",
    "    ]\n",
    "for t in harrasing_messages:\n",
    "    searchAndReplace(r\"^{}$\".format(t), \"harassing messages\", \"Event\", data)\n",
    "searchAndReplace(r\"annoying - harassing phone calls\", \"harassing messages\", \"Event\", data)\n",
    "searchAndReplace(r\"annoying - harassing phone call\", \"harassing messages\", \"Event\", data)\n",
    "searchAndReplace(r\"annoying phone calls\", \"harassing messages\", \"Event\", data)"
   ]
  },
  {
   "cell_type": "code",
   "execution_count": 16,
   "metadata": {},
   "outputs": [],
   "source": [
    "# disturbance\n",
    "disturbance_argument = [\n",
    "    'distrubance - argument',\n",
    "    'disturbance argument'\n",
    "    ]\n",
    "disturbance_noise = [\n",
    "    'disturance - noise',\n",
    "    'disturbance noise',\n",
    "    'noise disturbance e',\n",
    "    'noise violation',\n",
    "    'noise complaint',\n",
    "    'nosie disturbance',\n",
    "    'nois disturbance',\n",
    "    'noise disturbance'\n",
    "    ]\n",
    "disturbance_group = [\n",
    "    \"group disturbance\",\n",
    "    \"disturbance group\"\n",
    "    ]\n",
    "disturbance_party = [\n",
    "    'party disturbance',\n",
    "    \"disturbance party\"\n",
    "]\n",
    "disturbance_psych = [\n",
    "    \"psych subject disturbance\",\n",
    "    \"disturbance psych subject\"\n",
    "]\n",
    "for t in disturbance_argument:\n",
    "    searchAndReplace(r\"^{}$\".format(t), \"disturbance - argument\", \"Event\", data)\n",
    "for t in disturbance_noise:\n",
    "    searchAndReplace(r\"^{}$\".format(t), \"disturbance - noise\", \"Event\", data)\n",
    "for t in disturbance_group:\n",
    "    searchAndReplace(r\"^{}$\".format(t), \"disturbance - group\", \"Event\", data)\n",
    "for t in disturbance_party:\n",
    "    searchAndReplace(r\"^{}$\".format(t), \"disturbance - party\", \"Event\", data)\n",
    "for t in disturbance_psych:\n",
    "    searchAndReplace(r\"^{}$\".format(t), \"disturbance - psych subject\", \"Event\", data)\n",
    "\n",
    "searchAndReplace(r\"^disturbance general$\", \"disturbance\", \"Event\", data)\n",
    "searchAndReplace(r\"^family disturbance$\", \"disturbance - family\", \"Event\", data)\n",
    "searchAndReplace(r\"^vehicle disturbance$\", \"disturbance - vehicle\", \"Event\", data)"
   ]
  },
  {
   "cell_type": "code",
   "execution_count": 17,
   "metadata": {},
   "outputs": [],
   "source": [
    "# Clery\n",
    "searchAndReplace(r\"clery incident report\", \"clery report\", \"Event\", data)\n",
    "searchAndReplace(r\"clery incident\", \"clery report\", \"Event\", data)\n",
    "searchAndReplace(r\"clery reported\", \"clery report\", \"Event\", data)\n",
    "searchAndReplace(r\"clery sex offense\", \"clery report\", \"Event\", data)"
   ]
  },
  {
   "cell_type": "code",
   "execution_count": 18,
   "metadata": {},
   "outputs": [],
   "source": [
    "citizen_contact = [\n",
    "    'citizen assist',\n",
    "    'citizen contac',\n",
    "    'citzen contact'\n",
    "    ]\n",
    "for t in citizen_contact:\n",
    "    searchAndReplace(r\"^{}$\".format(t), \"citizen contact\", \"Event\", data)"
   ]
  },
  {
   "cell_type": "code",
   "execution_count": 19,
   "metadata": {},
   "outputs": [],
   "source": [
    "searchAndReplace(r\"citizen flagdown\", \"citizen flag down\", \"Event\", data)"
   ]
  },
  {
   "cell_type": "code",
   "execution_count": 20,
   "metadata": {},
   "outputs": [],
   "source": [
    "# Injuries\n",
    "searchAndReplace(r\"injury\", \"injuries\", \"Event\", data)"
   ]
  },
  {
   "cell_type": "code",
   "execution_count": 21,
   "metadata": {},
   "outputs": [],
   "source": [
    "# bicycle theft\n",
    "bicycle_theft = []\n",
    "bicycle_petty = [\n",
    "    'pett theft - bicycle',\n",
    "    'petty theft - bicycle',\n",
    "    'petty theft - bicycles',\n",
    "    'petty theft of bicycle',\n",
    "\n",
    "]\n",
    "bicycle_grand = [\n",
    "    'grand theft - bicycle',\n",
    "    'grand theft - bike',\n",
    "    'grand theft of bicycle',\n",
    "    'grant theft - bicycle',\n",
    "]\n",
    "for t in bicycle_petty:\n",
    "    searchAndReplace(r\"^{}$\".format(t), \"petty theft - bicycle\", \"Event\", data)\n",
    "for t in bicycle_grand:\n",
    "    searchAndReplace(r\"^{}$\".format(t), \"petty theft - bicycle\", \"Event\", data)"
   ]
  },
  {
   "cell_type": "code",
   "execution_count": 22,
   "metadata": {},
   "outputs": [],
   "source": [
    "hazardous_materials = [\n",
    "    'hazardous material incident',\n",
    "    'hazardous materials',\n",
    "    'hazardous materials incident',\n",
    "    'hazerdous materials incident'\n",
    "    ]\n",
    "for t in hazardous_materials:\n",
    "    searchAndReplace(r\"^{}$\".format(t), \"hazardous materials incident\", \"Event\", data)"
   ]
  },
  {
   "cell_type": "code",
   "execution_count": 23,
   "metadata": {},
   "outputs": [],
   "source": [
    "information = [\n",
    "    'inforamtion',\n",
    "    'information',\n",
    "    'information only',\n",
    "    'information report',\n",
    "    'informational report',\n",
    "]\n",
    "for t in information:\n",
    "    searchAndReplace(r\"^{}$\".format(t), \"information\", \"Event\", data)\n",
    "searchAndReplace(r\"information only$\".format(t), \"information\", \"Event\", data)"
   ]
  },
  {
   "cell_type": "code",
   "execution_count": 24,
   "metadata": {},
   "outputs": [],
   "source": [
    "medical_aid = [\n",
    "    'medial aid',\n",
    "    'medic al aid',\n",
    "    'medical aid',\n",
    "    'medical escort',\n",
    "]\n",
    "for t in medical_aid:\n",
    "    searchAndReplace(r\"^{}$\".format(t), \"medical aid\", \"Event\", data)"
   ]
  },
  {
   "cell_type": "code",
   "execution_count": 25,
   "metadata": {},
   "outputs": [],
   "source": [
    "# Collision\n",
    "collision_n_i = [\n",
    "    'collision - no injuries',\n",
    "    'no injuries collision',\n",
    "    'non - injuries collision',\n",
    "    'collision no injuries',\n",
    "    'non injuries collision',\n",
    "    'non injuries collision report'\n",
    "]\n",
    "collision_i = [\n",
    "    'collision w - injuries',\n",
    "    'collision with injuries',\n",
    "    'collison with injuries'\n",
    "]\n",
    "collision_m_i = [\n",
    "    'minor injuries collision',\n",
    "    'minor injuries collisoin',\n",
    "    'minor injuries collison'\n",
    "]\n",
    "collision_u_i = [\n",
    "    'unknown - injuries collision',\n",
    "    'unknown injuries collision'\n",
    "]\n",
    "for t in collision_n_i:\n",
    "    searchAndReplace(r\"^{}$\".format(t), \"collision - no injuries\", \"Event\", data)\n",
    "for t in collision_i:\n",
    "    searchAndReplace(r\"^{}$\".format(t), \"collision - with injuries\", \"Event\", data)\n",
    "for t in collision_m_i:\n",
    "    searchAndReplace(r\"^{}$\".format(t), \"collision - minor injuries\", \"Event\", data)\n",
    "for t in collision_u_i:\n",
    "    searchAndReplace(r\"^{}$\".format(t), \"collision - unknown injuries\", \"Event\", data)\n",
    "searchAndReplace(r\"^collision counter report$\", \"collision - counter report\", \"Event\", data)\n",
    "searchAndReplace(r\"^collision report$\", \"collision\", \"Event\", data)\n",
    "searchAndReplace(r\"^courtesy collision report$\", \"courtesy report - collision\", \"Event\", data)\n",
    "searchAndReplace(r\"^counter collision report$\", \"collision - counter report\", \"Event\", data)"
   ]
  },
  {
   "cell_type": "code",
   "execution_count": 26,
   "metadata": {},
   "outputs": [],
   "source": [
    "accident_n_i = [\n",
    "    'non - injuries accident',\n",
    "    'non - injuries accident report',\n",
    "    'non injuries accident',\n",
    "    'non injuries accident report',\n",
    "]\n",
    "accident_m_i = [\n",
    "    'minor injuries accident',\n",
    "    'minor injuries accident report',\n",
    "]\n",
    "for t in accident_n_i:\n",
    "    searchAndReplace(r\"^{}$\".format(t), \"accident - no injuries\", \"Event\", data)\n",
    "for t in accident_m_i:\n",
    "    searchAndReplace(r\"^{}$\".format(t), \"accident - minor injuries\", \"Event\", data)\n",
    "    \n",
    "searchAndReplace(r\"^serious - fatal injuries accident$\", \"accident - serious injuries - fatal injuries\", \"Event\", data)\n",
    "searchAndReplace(r\"^serious injuries accident$\", \"accident - serious injuries\", \"Event\", data)\n",
    "searchAndReplace(r\"^injuries accident$\", \"accident - with injuries\", \"Event\", data)\n",
    "searchAndReplace(r\"^unknown injuries accident$\", \"accident - unknown injuries\", \"Event\", data)\n",
    "searchAndReplace(r\"^fatal injuries accident$\", \"accident - fatal injuries\", \"Event\", data)"
   ]
  },
  {
   "cell_type": "code",
   "execution_count": 27,
   "metadata": {},
   "outputs": [],
   "source": [
    "ticket_sign_off = [\n",
    "    'ticekt sign off',\n",
    "    'ticket sign - off',\n",
    "    'ticket sign off',\n",
    "    'ticket sing off',\n",
    "    'tickets sign off'\n",
    "    ]\n",
    "for t in ticket_sign_off:\n",
    "    searchAndReplace(r\"^{}$\".format(t), \"ticket sign off\", \"Event\", data)\n",
    "\n"
   ]
  },
  {
   "cell_type": "code",
   "execution_count": 28,
   "metadata": {},
   "outputs": [],
   "source": [
    "throwing_ob = [\n",
    "    'throwing object at moving vehicle',\n",
    "    'throwing objects at moving vehicle',\n",
    "    'throwing objects at moving vehicles'\n",
    "    ]\n",
    "for t in throwing_ob:\n",
    "    searchAndReplace(r\"^{}$\".format(t), \"throwing object at moving vehicle\", \"Event\", data)\n"
   ]
  },
  {
   "cell_type": "code",
   "execution_count": 29,
   "metadata": {},
   "outputs": [],
   "source": [
    "searchAndReplace(r\"possession of\", \"possession -\", \"Event\", data)\n",
    "searchAndReplace(r\"^weapons possession$\", \"possession - weapons\", \"Event\", data)\n",
    "searchAndReplace(r\"^drug possession$\", \"possession - drug\", \"Event\", data)"
   ]
  },
  {
   "cell_type": "code",
   "execution_count": 30,
   "metadata": {},
   "outputs": [],
   "source": [
    "searchAndReplace(r\"vandalism of\", \"vandalism -\", \"Event\", data)\n",
    "searchAndReplace(r\"vandalism to\", \"vandalism -\", \"Event\", data)"
   ]
  },
  {
   "cell_type": "code",
   "execution_count": 31,
   "metadata": {},
   "outputs": [],
   "source": [
    "searchAndReplace(r\"theft of\", \"theft -\", \"Event\", data)"
   ]
  },
  {
   "cell_type": "code",
   "execution_count": 32,
   "metadata": {},
   "outputs": [],
   "source": [
    "# suspicious\n",
    "suspicious_person = [\n",
    "    'suspcious person',\n",
    "    'suspicions person',\n",
    "    'suspicious person',\n",
    "    'suspicious person(s)',\n",
    "    'suspicious persons',\n",
    "    'suspicous person'\n",
    "]\n",
    "suspicious_circumstance = [\n",
    "    'suspicious circumstance',\n",
    "    'suspicious circumstances',\n",
    "    'suspicoius circumstances'\n",
    "]\n",
    "for t in suspicious_person:\n",
    "    searchAndReplace(r\"^{}$\".format(t), \"suspicious person(s)\", \"Event\", data)\n",
    "for t in suspicious_circumstance:\n",
    "    searchAndReplace(r\"^{}$\".format(t), \"suspicious circumstance\", \"Event\", data)"
   ]
  },
  {
   "cell_type": "code",
   "execution_count": 33,
   "metadata": {},
   "outputs": [],
   "source": [
    "firearm_discharge = [\n",
    "    'discharging a firearm',\n",
    "    'discharging firearm',\n",
    "    'discharging of firearm'\n",
    "]\n",
    "for t in firearm_discharge:\n",
    "    searchAndReplace(r\"^{}$\".format(t), \"discharge of firearm\", \"Event\", data)"
   ]
  },
  {
   "cell_type": "code",
   "execution_count": 34,
   "metadata": {},
   "outputs": [],
   "source": [
    "searchAndReplace(r\"domestic violence incident\", \"domestic violence\", \"Event\", data)"
   ]
  },
  {
   "cell_type": "code",
   "execution_count": 35,
   "metadata": {},
   "outputs": [],
   "source": [
    "# gas water sewer\n",
    "gws_leak = [\n",
    "    'gas - water - sewer - leak',\n",
    "    'gas - water - sewer leak',\n",
    "    'gas - water sewer leak',\n",
    "    'gas water sewer leak',\n",
    "]\n",
    "for t in gws_leak:\n",
    "    searchAndReplace(r\"^{}$\".format(t), \"gas leak - water leak - sewer leak\", \"Event\", data)"
   ]
  },
  {
   "cell_type": "code",
   "execution_count": 36,
   "metadata": {},
   "outputs": [],
   "source": [
    "# lost property\n",
    "lost_property = [\n",
    "    'lost property',\n",
    "    'los property',\n",
    "    'lot property',\n",
    "]\n",
    "for t in lost_property:\n",
    "    searchAndReplace(r\"^{}$\".format(t), \"lost property\", \"Event\", data)"
   ]
  },
  {
   "cell_type": "code",
   "execution_count": 37,
   "metadata": {},
   "outputs": [],
   "source": [
    "# damage\n",
    "searchAndReplace(r\"damaged\", \"damage -\", \"Event\", data)"
   ]
  },
  {
   "cell_type": "code",
   "execution_count": 38,
   "metadata": {},
   "outputs": [],
   "source": [
    "# innkeeper\n",
    "innkeeper = [\n",
    "    'defrauding an inkeeper',\n",
    "    'defrauding an innkeeper',\n",
    "    'defrauding innkeeper'\n",
    "    ]\n",
    "for t in innkeeper:\n",
    "    searchAndReplace(r\"^{}$\".format(t), \"defrauding an innkeeper\", \"Event\", data)"
   ]
  },
  {
   "cell_type": "code",
   "execution_count": 39,
   "metadata": {},
   "outputs": [],
   "source": [
    "# Hit and Run\n",
    "searchAndReplace(r\"hit and run accident\", \"hit and run - accident\", \"Event\", data)\n",
    "searchAndReplace(r\"hit and run collision\", \"hit and run - collision\", \"Event\", data)\n",
    "searchAndReplace(r\"hit and run collision - no injuries\", \"hit and run - collision - no injuries\", \"Event\", data)\n",
    "searchAndReplace(r\"hit and run injuries\", \"hit and run - with injuries\", \"Event\", data)\n",
    "searchAndReplace(r\"hit and run investigation\", \"hit and run - investigation\", \"Event\", data)\n",
    "searchAndReplace(r\"hit and run no injuries\", \"hit and run - no injuries\", \"Event\", data)\n",
    "searchAndReplace(r\"non - injuries hit and run\", \"hit and run - no injuries\", \"Event\", data)\n",
    "searchAndReplace(r\"hit and run property damage\", \"hit and run - property damage\", \"Event\", data)\n",
    "searchAndReplace(r\"hit and run report\", \"hit and run\", \"Event\", data)\n",
    "searchAndReplace(r\"hit and run with injuries\", \"hit and run - with injuries\", \"Event\", data)"
   ]
  },
  {
   "cell_type": "code",
   "execution_count": 40,
   "metadata": {},
   "outputs": [],
   "source": [
    "# Invasion of Privacy\n",
    "searchAndReplace(r\"invade privacy\", \"invasion of privacy\", \"Event\", data)\n",
    "searchAndReplace(r\"invading privacy with camcorder under clothing\", \"invasion of privacy - recording device under clothing\", \"Event\", data)\n",
    "searchAndReplace(r\"invade with recording device - underneath clothing\", \"invasion of privacy - recording device under clothing\", \"Event\", data)"
   ]
  },
  {
   "cell_type": "code",
   "execution_count": 41,
   "metadata": {},
   "outputs": [],
   "source": [
    "searchAndReplace(r\"illegal parking structure\", \"illegal parking\", \"Event\", data)\n",
    "searchAndReplace(r\"illegal paring\", \"illegal parking\", \"Event\", data)\n",
    "\n",
    "searchAndReplace(r\"illegal vendor - solicitor\", \"illegal vendor - illegal solicitor\", \"Event\", data)"
   ]
  },
  {
   "cell_type": "code",
   "execution_count": 42,
   "metadata": {},
   "outputs": [],
   "source": [
    "searchAndReplace(r\"on spouse\", \"- domestic\", \"Event\", data)\n",
    "\n",
    "searchAndReplace(r\"misdemeanor\", \"misdemeanor -\", \"Event\", data)"
   ]
  },
  {
   "cell_type": "code",
   "execution_count": 43,
   "metadata": {},
   "outputs": [],
   "source": [
    "missing_person = [\n",
    "    'missing patient',\n",
    "    'missing person',\n",
    "    'missing person at risk',\n",
    "    'missing person report',\n",
    "    'mission person',\n",
    "]\n",
    "for t in missing_person:\n",
    "    searchAndReplace(r\"^{}$\".format(t), \"missing person\", \"Event\", data)"
   ]
  },
  {
   "cell_type": "code",
   "execution_count": 44,
   "metadata": {},
   "outputs": [],
   "source": [
    "searchAndReplace(r\"^noise - alcohol contact$\", \"disturbance - noise - alcohol contact\", \"Event\", data)\n",
    "searchAndReplace(r\"^noise disturbance - alcohol contact$\", \"disturbance - noise - alcohol contact\", \"Event\", data)"
   ]
  },
  {
   "cell_type": "code",
   "execution_count": 45,
   "metadata": {},
   "outputs": [],
   "source": [
    "impound_drug = [\n",
    "    \"drugs impounded\",\n",
    "    \"drug impounded\",\n",
    "    'impounded drugs',\n",
    "    \"drug impound\",\n",
    "    'impound drugs'\n",
    "    ]\n",
    "for t in impound_drug:\n",
    "    searchAndReplace(r\"^{}$\".format(t), \"impound - drug\", \"Event\", data)\n",
    "\n",
    "    \n",
    "searchAndReplace(r\"property impound\", \"impound - property\", \"Event\", data)\n",
    "searchAndReplace(r\"impounded property\", \"impound - property\", \"Event\", data)\n",
    "\n",
    "searchAndReplace(r\"marijuana impound\", \"impound - marijuana\", \"Event\", data)\n",
    "\n",
    "searchAndReplace(r\"vehicle impound\", \"impound - vehicle\", \"Event\", data)\n",
    "searchAndReplace(r\"impound vehicle\", \"impound - vehicle\", \"Event\", data)"
   ]
  },
  {
   "cell_type": "code",
   "execution_count": 46,
   "metadata": {},
   "outputs": [],
   "source": [
    "searchAndReplace(r\"rape of drugged victim\", \"rape\", \"Event\", data)\n",
    "\n",
    "searchAndReplace(r\"call for assistance\", \"call for help\", \"Event\", data)\n",
    "\n",
    "searchAndReplace(r\"carrying switchblade on person\", \"possession - weapon\", \"Event\", data)\n",
    "\n",
    "searchAndReplace(r\"chemical spill\", \"hazardous materials incident\", \"Event\", data)\n",
    "\n",
    "searchAndReplace(r\"carjacking\", \"auto theft\", \"Event\", data)\n",
    "\n",
    "searchAndReplace(r\"sexual assualt\", \"sexual battery\", \"Event\", data)\n",
    "\n",
    "searchAndReplace(r\"sexual assault\", \"sexual battery\", \"Event\", data)\n",
    "\n",
    "searchAndReplace(r\"alrm\", \"alarm\", \"Event\", data)\n",
    "\n",
    "searchAndReplace(r\"^copy right infringement$\", \"copyright infringement\", \"Event\", data)\n",
    "\n",
    "searchAndReplace(r\"^uc police violation$\", \"uc policy violation\", \"Event\", data)\n",
    "\n",
    "searchAndReplace(r\"overintoxication\", \"over intoxication\", \"Event\", data)\n",
    "searchAndReplace(r\"quiet hours - alcohol contact\", \"quiet hours contact - alcohol contact\", \"Event\", data)\n",
    "\n",
    "searchAndReplace(r\"generic fire call - not specified\", \"generic fire call\", \"Event\", data)\n",
    "\n",
    "searchAndReplace(r\"unknown event\", \"unknown trouble\", \"Event\", data)\n",
    "\n",
    "searchAndReplace(r\"^prowler$\", \"hot prowl\", \"Event\", data)\n",
    "searchAndReplace(r\"prowler\", \"- hot prowl\", \"Event\", data)\n",
    "\n",
    "searchAndReplace(r\"to detention\", \"- detention\", \"Event\", data)\n",
    "\n",
    "searchAndReplace(r\"to hospital\", \"- hospital\", \"Event\", data)\n",
    "\n",
    "searchAndReplace(r\"smoking - alcohol contact\", \"smoking contact - alcohol contact\", \"Event\", data)\n",
    "\n",
    "searchAndReplace(r\"bicycle parts\", \"bicycle part\", \"Event\", data)\n",
    "searchAndReplace(r\"bicycle - part\", \"bicycle part\", \"Event\", data)\n",
    "\n",
    "searchAndReplace(r\"bike\", \"bicycle\", \"Event\", data)\n",
    "\n",
    "searchAndReplace(r\"^alcohol -\", \"alcohol contact -\", \"Event\", data)\n",
    "\n",
    "searchAndReplace(r\" on person\", \"\", \"Event\", data)\n",
    "\n",
    "searchAndReplace(r\"battery with serious injuries\", \"battery - serious injuries\", \"Event\", data)\n",
    "\n",
    "searchAndReplace(r\"to vehicle\", \"- vehicle\", \"Event\", data)\n",
    "searchAndReplace(r\"of vehicle\", \"- vehicle\", \"Event\", data)\n",
    "searchAndReplace(r\"from vehicle\", \"- vehicle\", \"Event\", data)\n",
    "\n",
    "searchAndReplace(r\"to hospital\", \"- hospital\", \"Event\", data)\n",
    "\n",
    "searchAndReplace(r\"to hospital\", \"- hospital\", \"Event\", data)\n",
    "\n",
    "searchAndReplace(r\" only\", \"\", \"Event\", data)\n",
    "\n",
    "searchAndReplace(r\"welfare check - dentention\", \"welfare check - detention\", \"Event\", data)\n",
    "searchAndReplace(r\"weflare check\", \"welfare check\", \"Event\", data)\n",
    "\n",
    "searchAndReplace(r\"gang - terrorist threat\", \"gang or terrorist threat\", \"Event\", data)\n",
    "\n",
    "searchAndReplace(r\"suicide - hospital\", \"suicidal attempt - hospital\", \"Event\", data)\n",
    "searchAndReplace(r\"suicide\", \"suicidal\", \"Event\", data)\n",
    "\n",
    "searchAndReplace(r\"tampering\", \"tamper\", \"Event\", data)\n",
    "searchAndReplace(r\"tamper with a vehicle\", \"tamper with vehicle\", \"Event\", data)\n",
    "\n",
    "searchAndReplace(r\"threats\", \"threat\", \"Event\", data)\n",
    "\n",
    "searchAndReplace(r\"unauthorized altering computer data\", \"unauthorized altering of computer data\", \"Event\", data)\n",
    "\n",
    "searchAndReplace(r\"appropriate\", \"recovered\", \"Event\", data)\n",
    "\n",
    "searchAndReplace(r\"^deface with paint$\", \"vandalism - deface with paint\", \"Event\", data)\n",
    "\n",
    "searchAndReplace(r\"^disable placard misuse$\", \"disabled placard misuse\", \"Event\", data)\n",
    "searchAndReplace(r\"^damage to uc vehicle$\", \"damage - uc vehicle\", \"Event\", data)\n",
    "\n",
    "searchAndReplace(r\"^domestic violence disturbance$\", \"disturbance - domestic violence\", \"Event\", data)\n",
    "\n",
    "searchAndReplace(r\"^domestic disturbance$\", \"disturbance - domestic\", \"Event\", data)\n",
    "\n",
    "searchAndReplace(r\"^non injuries traffic accident$\", \"traffic accident - no injuries\", \"Event\", data)\n",
    "\n",
    "\n",
    "searchAndReplace(r\"^non - crime report$\", \"non-crime report\", \"Event\", data)\n",
    "searchAndReplace(r\"^non crime report$\", \"non-crime report\", \"Event\", data)\n",
    "searchAndReplace(r\"^non - academic misconduct$\", \"non-academic misconduct\", \"Event\", data)\n",
    "\n",
    "searchAndReplace(r\"^obstruct public officer$\", \"obstruction of public officer\", \"Event\", data)\n",
    "\n",
    "searchAndReplace(r\"^marijuana check$\", \"marijuana contact\", \"Event\", data)\n",
    "searchAndReplace(r\"^marijuana - alcohol contact$\", \"marijuana contact - alcohol contact\", \"Event\", data)\n",
    "searchAndReplace(r\"^marijuana possession$\", \"possession - marijuana\", \"Event\", data)\n",
    "\n",
    "searchAndReplace(r\"^lost passport$\", \"lost property - passport\", \"Event\", data)\n"
   ]
  },
  {
   "cell_type": "code",
   "execution_count": 47,
   "metadata": {},
   "outputs": [],
   "source": [
    "narc = [\n",
    "    \"narcotic controlled substance\",\n",
    "    \"narcotic cntl sub\",\n",
    "    \"narcotic substance\",\n",
    "    \"narcotics\",\n",
    "    \"cntl substance\",\n",
    "    \"controlled substance\",    \n",
    "]\n",
    "searchAndReplace(r\"drugs\", \"drug\", \"Event\", data)\n",
    "for t in narc:\n",
    "    searchAndReplace(r\"{}\".format(t), \"narcotic\", \"Event\", data)"
   ]
  },
  {
   "cell_type": "code",
   "execution_count": 48,
   "metadata": {},
   "outputs": [],
   "source": [
    "searchAndReplace(r\"trespass$\", \"trespassing\", \"Event\", data)\n",
    "searchAndReplace(r\"tresspass$\", \"trespassing\", \"Event\", data)\n",
    "searchAndReplace(r\"tresspassing$\", \"trespassing\", \"Event\", data)\n",
    "searchAndReplace(r\"^trespass - stalking$\", \"trespassing - stalking\", \"Event\", data)"
   ]
  },
  {
   "cell_type": "code",
   "execution_count": 49,
   "metadata": {},
   "outputs": [],
   "source": [
    "searchAndReplace(r\"^vehicle\", \"vehicle -\", \"Event\", data)\n",
    "searchAndReplace(r\"bicycles\", \"bicycle\", \"Event\", data)\n",
    "searchAndReplace(r\"vehicles\", \"vehicle\", \"Event\", data)\n",
    "searchAndReplace(r\"to burglary\", \"- burglary\", \"Event\", data)\n",
    "searchAndReplace(r\"warrant served\", \"warrant service\", \"Event\", data)\n",
    "\n",
    "searchAndReplace(r\"threaten crime - terrorize\", \"threaten crime with intent to terrorize\", \"Event\", data)\n",
    "searchAndReplace(r\"threaten crime$\", \"threaten crime with intent to terrorize\", \"Event\", data)\n",
    "\n",
    "searchAndReplace(r\"aggrevated\", \"aggravated\", \"Event\", data)\n",
    "\n",
    "\n",
    "searchAndReplace(r\" - general$\", \"\", \"Event\", data)"
   ]
  },
  {
   "cell_type": "code",
   "execution_count": 50,
   "metadata": {},
   "outputs": [],
   "source": [
    "suspended_license = [\n",
    "    'drive with license suspended for dui',\n",
    "    'driving with suspended license'\n",
    "]\n",
    "for t in suspended_license:\n",
    "    searchAndReplace(r\"^{}$\".format(t), \"suspended license\", \"Event\", data)"
   ]
  },
  {
   "cell_type": "code",
   "execution_count": 51,
   "metadata": {},
   "outputs": [],
   "source": [
    "without_license = [\n",
    "    'drive without license',\n",
    "    'driving without license'\n",
    "]\n",
    "for t in without_license:\n",
    "    searchAndReplace(r\"^{}$\".format(t), \"driving without license\", \"Event\", data)"
   ]
  },
  {
   "cell_type": "code",
   "execution_count": 52,
   "metadata": {},
   "outputs": [],
   "source": [
    "searchAndReplace(r\"drunk driver\", \"dui\", \"Event\", data)\n",
    "searchAndReplace(r\"drunk driving\", \"dui\", \"Event\", data)\n",
    "searchAndReplace(r\"driving under the influence\", \"dui\", \"Event\", data)\n",
    "searchAndReplace(r\"dui no injuries\", \"dui - no injuries\", \"Event\", data)"
   ]
  },
  {
   "cell_type": "code",
   "execution_count": 53,
   "metadata": {},
   "outputs": [],
   "source": [
    "dui_collision_n_i = [\n",
    "    'dui - non - injuries collision',\n",
    "    'dui - non injuries collision',\n",
    "    'dui with non injuries collision'\n",
    "]\n",
    "for t in dui_collision_n_i:\n",
    "    searchAndReplace(r\"^{}$\".format(t), \"dui - collision - no injuries\", \"Event\", data)\n",
    "searchAndReplace(r\"collision with injuries\", \"collision - with injuries\", \"Event\", data)"
   ]
  },
  {
   "cell_type": "code",
   "execution_count": 54,
   "metadata": {},
   "outputs": [],
   "source": [
    "searchAndReplace(r\"dunk in public\", \"drunk in public\", \"Event\", data)\n",
    "searchAndReplace(r\"fie alarm\", \"fire alarm\", \"Event\", data)\n",
    "searchAndReplace(r\"fire alarm trouble\", \"fire alarm\", \"Event\", data)\n",
    "searchAndReplace(r\"nonstudent refuse to leave school\", \"nonstudent refusing to leave school\", \"Event\", data)\n",
    "\n",
    "searchAndReplace(r\"^warrant arrest$\", \"arrest warrant\", \"Event\", data)\n",
    "searchAndReplace(r\"^misdemeanor - warrant arrest$\", \"misdemeanor - arrest warrant\", \"Event\", data)\n",
    "\n",
    "searchAndReplace(r\"receiving known stolen property\", \"recovered stolen property\", \"Event\", data)\n",
    "searchAndReplace(r\"report - crimes against property\", \"vandalism - crimes against property\", \"Event\", data)\n",
    "searchAndReplace(r\"resident contact\", \"residential contact\", \"Event\", data)\n",
    "searchAndReplace(r\"warrant arrest\", \"arrest warrant\", \"Event\", data)\n",
    "\n",
    "searchAndReplace(r\"drunk in public\", \"public intoxication\", \"Event\", data)"
   ]
  },
  {
   "cell_type": "code",
   "execution_count": 55,
   "metadata": {},
   "outputs": [],
   "source": [
    "burglary_alarm = [\n",
    "    'burglary alarm',\n",
    "    'burglary alarms',\n",
    "    'burglar alarm',\n",
    "    'burlgary alarm'\n",
    "    ]\n",
    "for t in burglary_alarm:\n",
    "    searchAndReplace(r\"^{}$\".format(t), \"burglary alarm\", \"Event\", data)"
   ]
  },
  {
   "cell_type": "code",
   "execution_count": 56,
   "metadata": {},
   "outputs": [],
   "source": [
    "faultyEvents = [\n",
    "    'north mesa apartments', \n",
    "    'myers dr - gilman dr',\n",
    "    'salk institute',\n",
    "    'revelle commons', \n",
    "    'internal medicine group building',\n",
    "    'mesa nueva building a',\n",
    "    'matthews ln',\n",
    "    'ucsd police department',\n",
    "    'birch girls restroom',\n",
    "    'muir college'\n",
    "]"
   ]
  },
  {
   "cell_type": "code",
   "execution_count": 57,
   "metadata": {},
   "outputs": [],
   "source": [
    "searchAndReplace(r\" - from a person\", \"\", \"Event\", data)\n",
    "searchAndReplace(r\"from person\", \"\", \"Event\", data)\n",
    "searchAndReplace(r\"^hazard$\", \"hazard situation\", \"Event\", data)\n",
    "searchAndReplace(r\"^vehicle - - burglary$\", \"vehicle - burglary\", \"Event\", data)"
   ]
  },
  {
   "cell_type": "code",
   "execution_count": 58,
   "metadata": {},
   "outputs": [],
   "source": [
    "data.iloc[9306].Event, data.iloc[9306].Location = data.iloc[9306].Location, data.iloc[9306].Event\n",
    "data.iloc[10417].Event = \"unknown trouble\"\n",
    "data.iloc[28255].Event = \"unknown trouble\"\n",
    "data.iloc[42896].Event, data.iloc[42896].Location = \"unknown trouble\", data.iloc[42896].Event\n",
    "data.iloc[46587].Event, data.iloc[46587].Location = \"unknown trouble\", data.iloc[46587].Event\n",
    "data.iloc[49521].Event, data.iloc[49521].Location = \"unknown trouble\", data.iloc[49521].Event\n",
    "data.iloc[50573].Event, data.iloc[50573].Location = \"unknown trouble\", data.iloc[50573].Event\n",
    "data.iloc[52067].Event, data.iloc[52067].Location = \"unknown trouble\", data.iloc[52067].Event\n",
    "data.iloc[52404].Event, data.iloc[52404].Location = \"unknown trouble\", data.iloc[52404].Event\n",
    "data.iloc[52435].Event, data.iloc[52435].Location = \"unknown trouble\", data.iloc[52435].Event"
   ]
  },
  {
   "cell_type": "markdown",
   "metadata": {},
   "source": [
    "# Location"
   ]
  },
  {
   "cell_type": "code",
   "execution_count": null,
   "metadata": {},
   "outputs": [],
   "source": []
  },
  {
   "cell_type": "code",
   "execution_count": null,
   "metadata": {},
   "outputs": [],
   "source": []
  },
  {
   "cell_type": "markdown",
   "metadata": {},
   "source": [
    "# Disposition"
   ]
  },
  {
   "cell_type": "code",
   "execution_count": 59,
   "metadata": {},
   "outputs": [],
   "source": [
    "searchAndReplace(r\"in to\", \"into\", \"Disposition:\", data)\n",
    "searchAndReplace(r\"fire & medics\", \"fire and medics\", \"Disposition:\", data)\n",
    "searchAndReplace(r\"medics & fire\", \"fire and medics\", \"Disposition:\", data)\n",
    "searchAndReplace(r\"lost & found\", \"lost and found\", \"Disposition:\", data)"
   ]
  },
  {
   "cell_type": "code",
   "execution_count": 60,
   "metadata": {},
   "outputs": [],
   "source": [
    "# eg&s\n",
    "ehs = [\n",
    "    \"eh&s\",\n",
    "    \"eh& s\",\n",
    "    \"ehs\",\n",
    "    \"environment health & safety\",\n",
    "]\n",
    "for t in ehs:\n",
    "    searchAndReplace(r\"{}\".format(t), \"environment health and safety\", \"Disposition:\", data)"
   ]
  },
  {
   "cell_type": "code",
   "execution_count": 61,
   "metadata": {},
   "outputs": [],
   "source": [
    "searchAndReplace(r\"sdpd\", \"san diego police department\", \"Disposition:\", data)\n",
    "searchAndReplace(r\" pd\", \" police department\", \"Disposition:\", data)\n",
    "searchAndReplace(r\"sdfd\", \"san diego fire department\", \"Disposition:\", data)\n",
    "searchAndReplace(r\"bldg\", \"building\", \"Disposition:\", data)\n",
    "searchAndReplace(r\"chp\", \"california highway patrol\", \"Disposition:\", data)\n",
    "searchAndReplace(r\"rp\", \"reporting party\", \"Disposition:\", data)\n",
    "searchAndReplace(r\"cso\", \"community service officer\", \"Disposition:\", data)\n",
    "searchAndReplace(r\"rso \", \"residential service officer \", \"Disposition:\", data)"
   ]
  },
  {
   "cell_type": "code",
   "execution_count": 62,
   "metadata": {},
   "outputs": [],
   "source": [
    "searchAndReplace(r\"agency-\", \"agency - \", \"Disposition:\", data)\n",
    "searchAndReplace(r\"department-\", \"department - \", \"Disposition:\", data)\n",
    "\n",
    "searchAndReplace(r\"  \", \" \", \"Disposition:\", data)"
   ]
  },
  {
   "cell_type": "code",
   "execution_count": 63,
   "metadata": {},
   "outputs": [],
   "source": [
    "searchAndReplace(r\"\\.\", \"\", \"Disposition:\", data)"
   ]
  },
  {
   "cell_type": "code",
   "execution_count": 64,
   "metadata": {},
   "outputs": [],
   "source": [
    "field_interview = [\n",
    "    \"field interivew\",\n",
    "    \"field intervew\",\n",
    "    \"field inteview\",\n",
    "    \"filed interview\"\n",
    "    ]\n",
    "for t in field_interview:\n",
    "    searchAndReplace(r\"{}\".format(t), \"field interview\", \"Disposition:\", data)"
   ]
  },
  {
   "cell_type": "code",
   "execution_count": 65,
   "metadata": {},
   "outputs": [],
   "source": [
    "searchAndReplace(r\"transporation\", \"transportation\", \"Disposition:\", data)\n",
    "searchAndReplace(r\"dispatcheed\", \"dispatched\", \"Disposition:\", data)\n",
    "searchAndReplace(r\"goane\", \"gone\", \"Disposition:\", data)\n",
    "searchAndReplace(r\"informatin\", \"information\", \"Disposition:\", data)\n",
    "searchAndReplace(r\"informatino\", \"information\", \"Disposition:\", data)\n",
    "searchAndReplace(r\"informationo\", \"information\", \"Disposition:\", data)\n",
    "searchAndReplace(r\"^informatio$\", \"information\", \"Disposition:\", data)\n",
    "searchAndReplace(r\"informtaion\", \"information\", \"Disposition:\", data)\n",
    "searchAndReplace(r\"onlly\", \"only\", \"Disposition:\", data)\n",
    "searchAndReplace(r\"enroute\", \"en route\", \"Disposition:\", data)\n",
    "searchAndReplace(r\"en-route\", \"en route\", \"Disposition:\", data)\n",
    "searchAndReplace(r\"locke \", \"lock \", \"Disposition:\", data)\n",
    "searchAndReplace(r\"medaid\", \"medical aid\" , \"Disposition:\", data)\n",
    "searchAndReplace(r\"responsded\", \"responded\", \"Disposition:\", data)\n",
    "searchAndReplace(r\"othe \", \"other \", \"Disposition:\", data)\n",
    "searchAndReplace(r\"high way\", \"highway\", \"Disposition:\", data)\n",
    "searchAndReplace(r\"hostpital\", \"hospital\", \"Disposition:\", data)\n",
    "searchAndReplace(r\"maintanance\", \"maintenance\", \"Disposition:\", data)\n",
    "searchAndReplace(r\"maitanence\", \"maintenance\", \"Disposition:\", data)\n",
    "searchAndReplace(r\"ucs \", \"ucsd \", \"Disposition:\", data)\n",
    "searchAndReplace(r\"ucs \", \"ucsd \", \"Disposition:\", data)\n",
    "searchAndReplace(r\"referrred\", \"referred\", \"Disposition:\", data)\n",
    "searchAndReplace(r\"reffered\", \"referred\", \"Disposition:\", data)\n",
    "searchAndReplace(r\"rreport\", \"report\", \"Disposition:\", data)\n",
    "searchAndReplace(r\"reprot\", \"report\", \"Disposition:\", data)\n",
    "searchAndReplace(r\"repot\", \"report\", \"Disposition:\", data)\n",
    "searchAndReplace(r\"proviced\", \"provided\", \"Disposition:\", data)\n",
    "searchAndReplace(r\"servics\", \"service\", \"Disposition:\", data)\n",
    "searchAndReplace(r\"trasnported\", \"transported to\", \"Disposition:\", data)\n",
    "searchAndReplace(r\"ujnable\", \"unable\", \"Disposition:\", data)\n",
    "searchAndReplace(r\"suitemate\", \"suite mate\", \"Disposition:\", data)\n",
    "searchAndReplace(r\"unalbe\", \"unable\", \"Disposition:\", data)\n",
    "searchAndReplace(r\"vebal\", \"verbal\", \"Disposition:\", data)\n",
    "searchAndReplace(r\"wriiten\", \"written\", \"Disposition:\", data)"
   ]
  },
  {
   "cell_type": "code",
   "execution_count": 66,
   "metadata": {},
   "outputs": [],
   "source": [
    "verbal_warning = [\n",
    "    'verbal waring issued',\n",
    "    'verbal warming issued',\n",
    "    'verbal warning',\n",
    "    'verbal warning issued',\n",
    "    'verbal warning(s) issued',\n",
    "    'verbal warnings issued',\n",
    "    ]\n",
    "for t in verbal_warning:\n",
    "    searchAndReplace(r\"^{}$\".format(t), \"verbal warning issued x1\", \"Disposition:\", data)\n",
    "searchAndReplace(r\"verbal warnings issued\", \"verbal warning issued\", \"Disposition:\", data)\n",
    "searchAndReplace(r\"10-verbal warnings\", \"verbal warning issued x10\", \"Disposition:\", data)\n",
    "searchAndReplace(r\"10verbal warning issued\", \"verbal warning issued x10\", \"Disposition:\", data)\n",
    "searchAndReplace(r\"11 verbal warning issued\", \"verbal warning issued x11\", \"Disposition:\", data)\n",
    "searchAndReplace(r\"18 verbal warning issued\", \"verbal warning issued x18\", \"Disposition:\", data)\n",
    "searchAndReplace(r\"2 verbal warning issued\", \"verbal warning issued x2\", \"Disposition:\", data)\n",
    "searchAndReplace(r\"26 verbal warning issued\", \"verbal warning issued x26\", \"Disposition:\", data)\n",
    "searchAndReplace(r\"27 verbal warning issued\", \"verbal warning issued x27\", \"Disposition:\", data)\n",
    "searchAndReplace(r\"3 verbal warning issued\", \"verbal warning issued x3\", \"Disposition:\", data)\n",
    "searchAndReplace(r\"4 verbal warning issued\", \"verbal warning issued x4\", \"Disposition:\", data)\n",
    "searchAndReplace(r\"45 verbal warning issued\", \"verbal warning issued x45\", \"Disposition:\", data)\n",
    "searchAndReplace(r\"5 verbal warning issued\", \"verbal warning issued x5\", \"Disposition:\", data)\n",
    "searchAndReplace(r\"7 verbal warning issued\", \"verbal warning issued x7\", \"Disposition:\", data)\n",
    "searchAndReplace(r\"verbal warning(s) issued\", \"verbal warning issued x1\", \"Disposition:\", data)"
   ]
  },
  {
   "cell_type": "code",
   "execution_count": 67,
   "metadata": {},
   "outputs": [],
   "source": [
    "written_warning = [\n",
    "    'written warning',\n",
    "    'written warning issued',\n",
    "    'written warnings issued',\n",
    "    ]\n",
    "for t in written_warning:\n",
    "    searchAndReplace(r\"^{}$\".format(t), \"written warning issued x1\", \"Disposition:\", data)\n",
    "searchAndReplace(r\"written warnings issued\", \"written warning issued\", \"Disposition:\", data)\n",
    "searchAndReplace(r\"1 written warning issued\", \"written warning issued x1\", \"Disposition:\", data)\n",
    "searchAndReplace(r\"2-written warnings\", \"written warning issued x2\", \"Disposition:\", data)\n",
    "searchAndReplace(r\"3 written warning issued\", \"written warning issued x3\", \"Disposition:\", data)\n",
    "searchAndReplace(r\"2 written warning issued\", \"written warning issued x2\", \"Disposition:\", data)"
   ]
  },
  {
   "cell_type": "code",
   "execution_count": 68,
   "metadata": {},
   "outputs": [],
   "source": [
    "searchAndReplace(r\"1 adult arrest\", \"closed by adult arrest x1\", \"Disposition:\", data)\n",
    "searchAndReplace(r\"^adult arrest$\", \"closed by adult arrest x1\", \"Disposition:\", data)\n",
    "searchAndReplace(r\"cleared by adult arrest\", \"closed by adult arrest x1\", \"Disposition:\", data)\n",
    "searchAndReplace(r\"closed by adult and juvenile arrest,\",  \"closed by adult arrest x1 - closed by juvenile arrest x1,\", \"Disposition:\", data)\n",
    "searchAndReplace(r\"^closed by adult arrest$\", \"closed by adult arrest x1\", \"Disposition:\", data)\n",
    "searchAndReplace(r\"closed by adult arrest &\",  \"closed by adult arrest x1 -\", \"Disposition:\", data)\n",
    "searchAndReplace(r\"closed by adult arrest -\",  \"closed by adult arrest x1 -\", \"Disposition:\", data)\n",
    "searchAndReplace(r\"closed by adult arrest,\",  \"closed by adult arrest x1 -\", \"Disposition:\", data)\n",
    "searchAndReplace(r\"closed by adult arrest/\",  \"closed by adult arrest x1 - \", \"Disposition:\", data)\n",
    "searchAndReplace(r\"closed by adult arrest x 1\",  \"closed by adult arrest x1\", \"Disposition:\", data)\n",
    "searchAndReplace(r\"one adult arrest\",  \"closed by adult arrest x1\", \"Disposition:\", data)\n",
    "searchAndReplace(r\"^update-closed by adult arrest$\",  \"closed by adult arrest x1\", \"Disposition:\", data)\n",
    "searchAndReplace(r\"^closed by juvenile arrest$\",  \"closed by juvenile arrest x1\", \"Disposition:\", data)\n",
    "searchAndReplace(r\"^closed by adult and juvenile arrest$\",  \"closed by adult arrest x1 - closed by juvenile arrest x1\", \"Disposition:\", data)\n",
    "searchAndReplace(r\"closed by adult arrest by\",  \"closed by adult arrest x1 - by\", \"Disposition:\", data)"
   ]
  },
  {
   "cell_type": "code",
   "execution_count": 69,
   "metadata": {},
   "outputs": [],
   "source": [
    "searchAndReplace(r\"closed by citation, adult\", \"closed by adult citation\", \"Disposition:\", data)\n",
    "searchAndReplace(r\"1 adult citation &\", \"closed by adult citation x1 -\", \"Disposition:\", data)\n",
    "searchAndReplace(r\"1 adult citation issued\", \"closed by adult citation x1\", \"Disposition:\", data)\n",
    "searchAndReplace(r\"1 adult cited\", \"closed by adult citation x1\", \"Disposition:\", data)\n",
    "searchAndReplace(r\"/adult citation issued\", \"- closed by adult citation x1\", \"Disposition:\", data)\n",
    "searchAndReplace(r\"1 cited\", \"closed by adult citation x1\", \"Disposition:\", data)\n",
    "searchAndReplace(r\"and adult citation issued\", \"- closed by adult citation x1\", \"Disposition:\", data)\n",
    "searchAndReplace(r\"/citation issued\", \"- closed by adult citation x1\", \"Disposition:\", data)\n",
    "searchAndReplace(r\"/cited\", \"- closed by adult citation x1\", \"Disposition:\", data)\n",
    "searchAndReplace(r\"/issued adult citation\", \"- closed by adult citation x1\", \"Disposition:\", data)\n",
    "searchAndReplace(r\"/1 citation issued\", \"- closed by adult citation x1\", \"Disposition:\", data)\n",
    "searchAndReplace(r\"one adult citation issued$\", \"closed by adult citation x1\", \"Disposition:\", data)\n",
    "searchAndReplace(r\"adult citation issued/\", \"closed by adult citation x1 -\", \"Disposition:\", data)\n",
    "searchAndReplace(r\"^citation issued$\", \"closed by adult citation x1\", \"Disposition:\", data)\n",
    "searchAndReplace(r\"^citation issued/\", \"closed by adult citation x1 -\", \"Disposition:\", data)\n",
    "searchAndReplace(r\"^cited$\", \"closed by adult citation x1\", \"Disposition:\", data)\n",
    "searchAndReplace(r\"^cited &\", \"closed by adult citation x1 -\", \"Disposition:\", data)\n",
    "searchAndReplace(r\"^cited/\", \"closed by adult citation x1 -\", \"Disposition:\", data)\n",
    "searchAndReplace(r\"- citation$\", \"- closed by adult citation x1\", \"Disposition:\", data)\n",
    "searchAndReplace(r\"^closed by adult citation$\", \"closed by adult citation x1\", \"Disposition:\", data)\n",
    "searchAndReplace(r\"^closed by adult citation &\", \"closed by adult citation x1 -\", \"Disposition:\", data)\n",
    "searchAndReplace(r\"^closed by adult citation -\", \"closed by adult citation x1 -\", \"Disposition:\", data)\n",
    "searchAndReplace(r\"closed by one adult citation/\", \"closed by adult citation x1 -\", \"Disposition:\", data)\n",
    "searchAndReplace(r\"^closed, cited and released$\", \"closed by adult citation x1\", \"Disposition:\", data)\n",
    "searchAndReplace(r\"^closed by citation$\", \"closed by adult citation x1\", \"Disposition:\", data)\n",
    "searchAndReplace(r\"^closed by citation-1 adult\", \"closed by adult citation x1\", \"Disposition:\", data)\n",
    "searchAndReplace(r\"^closed by adult citation x 2\", \"closed by adult citation x2\", \"Disposition:\", data)\n",
    "searchAndReplace(r\"2 citations issued\", \"closed by adult citation x2\", \"Disposition:\", data)\n",
    "searchAndReplace(r\"2 cited\", \"closed by adult citation x2\", \"Disposition:\", data)\n",
    "searchAndReplace(r\"two adult citations,\", \"closed by adult citation x2 -\", \"Disposition:\", data)\n",
    "searchAndReplace(r\"2 closed, cited and released\", \"closed by adult citation x2\", \"Disposition:\", data)\n",
    "searchAndReplace(r\"2 adult citations issued\", \"closed by adult citation x2\", \"Disposition:\", data)\n",
    "searchAndReplace(r\"2 adult citations\", \"closed by adult citation x2\", \"Disposition:\", data)\n",
    "searchAndReplace(r\"closed by 2 citations, adult\", \"closed by adult citation x2\", \"Disposition:\", data)\n",
    "searchAndReplace(r\"closed by 3 citations, adult\", \"closed by adult citation x3\", \"Disposition:\", data)\n",
    "searchAndReplace(r\"3 closed, cited and released\", \"closed by adult citation x3\", \"Disposition:\", data)\n",
    "searchAndReplace(r\"three adult citations$\", \"closed by adult citation x3\", \"Disposition:\", data)\n",
    "searchAndReplace(r\"3 adult citations issued\", \"closed by adult citation x3\", \"Disposition:\", data)\n",
    "searchAndReplace(r\"closed by citation x3, adult\", \"closed by adult citation x3\", \"Disposition:\", data)\n",
    "searchAndReplace(r\"4 adult citations issued\", \"closed by adult citation x4\", \"Disposition:\", data)\n",
    "searchAndReplace(r\"5 adult citations issued\", \"closed by adult citation x5\", \"Disposition:\", data)\n",
    "searchAndReplace(r\"5 closed, cited and released\", \"closed by adult citation x5\", \"Disposition:\", data)\n",
    "searchAndReplace(r\"5-cited\", \"closed by adult citation x5\", \"Disposition:\", data)\n",
    "searchAndReplace(r\"closed by citation, juvenile\", \"closed by juvenile citation\", \"Disposition:\", data)\n",
    "searchAndReplace(r\"1 juvenile cited\", \"closed by juvenile citation x1\", \"Disposition:\", data)\n",
    "searchAndReplace(r\"1 juvenile citation issued\", \"closed by juvenile citation x1\", \"Disposition:\", data)\n",
    "searchAndReplace(r\"1 juvenile citation\", \"closed by juvenile citation x1\", \"Disposition:\", data)\n",
    "searchAndReplace(r\"one juvenile citation issued\", \"closed by juvenile citation x1\", \"Disposition:\", data)\n",
    "searchAndReplace(r\"one juvenile citation\", \"closed by juvenile citation x1\", \"Disposition:\", data)\n",
    "searchAndReplace(r\"^closed by juvenile citation$\", \"closed by juvenile citation x1\", \"Disposition:\", data)\n",
    "searchAndReplace(r\"- juvenile$\", \"- closed by juvenile citation x1\", \"Disposition:\", data)\n",
    "searchAndReplace(r\"2 juveniles\", \"closed by juvenile citation x2\", \"Disposition:\", data)\n",
    "searchAndReplace(r\"closed by closed by\", \"closed by\", \"Disposition:\", data)\n",
    "searchAndReplace(r\"one closed\", \"closed\", \"Disposition:\", data)"
   ]
  },
  {
   "cell_type": "code",
   "execution_count": 70,
   "metadata": {},
   "outputs": [],
   "source": [
    "searchAndReplace(r\"1 transported to detox\", \"transported to detox x1\", \"Disposition:\", data)\n",
    "searchAndReplace(r\"2 transported to detox\", \"transported to detox x2\", \"Disposition:\", data)\n",
    "searchAndReplace(r\"3 transported to detox\", \"transported to detox x3\", \"Disposition:\", data)\n",
    "searchAndReplace(r\"/transported to detox\", \"- transported to detox x1\", \"Disposition:\", data)\n",
    "searchAndReplace(r\", transported to detox for drunk in public\", \"- transported to detox x1\", \"Disposition:\", data)\n",
    "searchAndReplace(r\"one transported to detox\", \"transported to detox x1\", \"Disposition:\", data)\n",
    "searchAndReplace(r\"^transported to detox$\", \"transported to detox x1\", \"Disposition:\", data)\n",
    "searchAndReplace(r\"two transported to detox\", \"transported to detox x2\", \"Disposition:\", data)\n",
    "#searchAndReplace(r\"x1 x1\", \"x1\", \"Disposition:\", data)"
   ]
  },
  {
   "cell_type": "code",
   "execution_count": 71,
   "metadata": {},
   "outputs": [],
   "source": [
    "searchAndReplace(r\"paramedics transported to hospital\", \"transported to hospital x1 by paramedics\", \"Disposition:\", data)\n",
    "searchAndReplace(r\"1 transported to hospital\", \"transported to hospital x1\", \"Disposition:\", data)\n",
    "searchAndReplace(r\"bicyclist transported to hospital\", \"transported to hospital x1\", \"Disposition:\", data)\n",
    "searchAndReplace(r\"/transported to hospital\", \"- transported to hospital x1\", \"Disposition:\", data)\n",
    "searchAndReplace(r\"1 subject transported to hospital\", \"transported to hospital x1\", \"Disposition:\", data)\n",
    "searchAndReplace(r\"-transported to hospital\", \"- transported to hospital x1\", \"Disposition:\", data)\n",
    "searchAndReplace(r\"male subject transported to hospital\", \"transported to hospital x1 - male subject\", \"Disposition:\", data)\n",
    "searchAndReplace(r\"medics transported to hospital\", \"transported to hospital x1 by medics\", \"Disposition:\", data)\n",
    "searchAndReplace(r\"subject transported to hospital by medics\", \"transported to hospital x1 by medics\", \"Disposition:\", data)\n",
    "searchAndReplace(r\"one transported to hospital\", \"transported to hospital x1\", \"Disposition:\", data)\n",
    "searchAndReplace(r\"pedestrian transported to hospital\", \"transported to hospital x1 - pedestrian\", \"Disposition:\", data)\n",
    "searchAndReplace(r\"2 transported to hospital\", \"transported to hospital x2\", \"Disposition:\", data)\n",
    "searchAndReplace(r\"parents transported to hospital\", \"transported to hospital x1 by parents\", \"Disposition:\", data)\n",
    "searchAndReplace(r\"subject transported back to va hospital\", \"transported to hospital x1 (va)\", \"Disposition:\", data)\n",
    "searchAndReplace(r\"transported to va hospital\", \"transported to hospital x1 (va)\", \"Disposition:\", data)\n",
    "searchAndReplace(r\"two transported to hospital\", \"transported to hospital x2\", \"Disposition:\", data)\n",
    "searchAndReplace(r\"subject transported to hospital\", \"transported to hospital x1\", \"Disposition:\", data)\n",
    "searchAndReplace(r\"subject transported to thornton hospital\", \"transported to hospital x1 (thornton)\", \"Disposition:\", data)\n",
    "searchAndReplace(r\"personal transportation provided to hospital\", \"transported to hospital x1 by private\", \"Disposition:\", data)\n",
    "searchAndReplace(r\"personal transportation to hospital\", \"transported to hospital x1 by private\", \"Disposition:\", data)\n",
    "searchAndReplace(r\"privately transported to hospital\", \"transported to hospital x1 by private\", \"Disposition:\", data)\n",
    "searchAndReplace(r\"self transported to hospital\", \"transported to hospital x1 by private\", \"Disposition:\", data)\n",
    "searchAndReplace(r\"^transported to thornton$\", \"transported to hospital x1 (thornton)\", \"Disposition:\", data)\n",
    "searchAndReplace(r\"1 transported to thornton hospital\", \"transported to hospital x1 (thornton)\", \"Disposition:\", data)\n",
    "searchAndReplace(r\"transported to thornton hospital\", \"transported to hospital x1 (thornton)\", \"Disposition:\", data)\n",
    "searchAndReplace(r\"2 transported to hospital\", \"transported to hospital x2\", \"Disposition:\", data)\n",
    "searchAndReplace(r\"2 passengers transported to hospital\", \"transported to hospital x2\", \"Disposition:\", data)\n",
    "searchAndReplace(r\"^transported to hospital by\", \"transported to hospital x1 by\", \"Disposition:\", data)\n",
    "searchAndReplace(r\"^transported to hospital$\", \"transported to hospital x1\", \"Disposition:\", data)\n",
    "searchAndReplace(r\"^transported to hospital - by\", \"transported to hospital x1 by\", \"Disposition:\", data)\n",
    "searchAndReplace(r\"^transported to hospital -\", \"transported to hospital x1 by\", \"Disposition:\", data)\n",
    "searchAndReplace(r\"^transported to hospital/\", \"transported to hospital x1 -\", \"Disposition:\", data)\n",
    "searchAndReplace(r\"voluntarily check into hospital\", \"transported to hospital x1\", \"Disposition:\", data)\n",
    "searchAndReplace(r\"voluntary transported to hospital\", \"transported to hospital x1\", \"Disposition:\", data)\n",
    "searchAndReplace(r\"voluntary transport to hospital for evaluation\", \"transported to hospital x1\", \"Disposition:\", data)"
   ]
  },
  {
   "cell_type": "code",
   "execution_count": 72,
   "metadata": {},
   "outputs": [],
   "source": [
    "searchAndReplace(r\"1 transported to jail\", \"transported to san diego county jail x1\", \"Disposition:\", data)\n",
    "searchAndReplace(r\"booked into county jail\", \"transported to san diego county jail x1\", \"Disposition:\", data)\n",
    "searchAndReplace(r\"booked into san diego central jail\", \"transported to san diego county jail x1\", \"Disposition:\", data)\n",
    "searchAndReplace(r\"booked into san diego county jail\", \"transported to san diego county jail x1\", \"Disposition:\", data)\n",
    "searchAndReplace(r\"transported and booked into san diego county jail\", \"transported to san diego county jail x1\", \"Disposition:\", data)\n",
    "searchAndReplace(r\"transported and booked to san diego central detention facility\", \"transported to san diego county jail x1\", \"Disposition:\", data)\n",
    "searchAndReplace(r\"transported to central jail\", \"transported to san diego county jail x1\", \"Disposition:\", data)\n",
    "searchAndReplace(r\"transported to jail\", \"transported to san diego county jail x1\", \"Disposition:\", data)\n",
    "searchAndReplace(r\"transported to san diego central detention facility\", \"transported to san diego county jail x1\", \"Disposition:\", data)\n",
    "#searchAndReplace(r\"transported to san diego county jail\", \"transported to san diego county jail x1\", \"Disposition:\", data)\n",
    "#searchAndReplace(r\"san diego county jail\", \"transported to san diego county jail x1\", \"Disposition:\", data)\n",
    "searchAndReplace(r\"1 transported to county jail\", \"transported to san diego county jail x1\", \"Disposition:\", data)\n",
    "\n"
   ]
  },
  {
   "cell_type": "code",
   "execution_count": 73,
   "metadata": {},
   "outputs": [],
   "source": [
    "searchAndReplace(r\"bicycle impounded\", \"bicycle impounded\", \"Disposition:\", data)\n",
    "searchAndReplace(r\"bicycles impounded\", \"bicycle impounded\", \"Disposition:\", data)\n",
    "searchAndReplace(r\"bike impounded\", \"bicycle impounded\", \"Disposition:\", data)\n",
    "searchAndReplace(r\"bike impound\", \"bicycle impounded\", \"Disposition:\", data)"
   ]
  },
  {
   "cell_type": "code",
   "execution_count": 74,
   "metadata": {},
   "outputs": [],
   "source": [
    "searchAndReplace(r\"canceled\", \"cancelled\", \"Disposition:\", data)\n",
    "searchAndReplace(r\"dispatch,\", \"dispatch -\", \"Disposition:\", data)\n",
    "searchAndReplace(r\"dispatched\", \"dispatch\", \"Disposition:\", data)\n",
    "searchAndReplace(r\"dispatcher\", \"dispatch\", \"Disposition:\", data)\n",
    "searchAndReplace(r\"officer dispatch\", \"dispatch\", \"Disposition:\", data)\n",
    "searchAndReplace(r\"dispatch/\", \"dispatch - \", \"Disposition:\", data)\n",
    "searchAndReplace(r\"cancelled,\", \"cancelled -\", \"Disposition:\", data)\n",
    "searchAndReplace(r\"cancelled/\", \"cancelled - \", \"Disposition:\", data)\n",
    "searchAndReplace(r\"subject left$\", \"subject left area\", \"Disposition:\", data)\n",
    "searchAndReplace(r\"subjects left area$\", \"subject left area\", \"Disposition:\", data)\n",
    "searchAndReplace(r\"dispatch-\", \"dispatch - \", \"Disposition:\", data)"
   ]
  },
  {
   "cell_type": "code",
   "execution_count": 75,
   "metadata": {},
   "outputs": [],
   "source": [
    "searchAndReplace(r\"check ok\", \"checks ok\", \"Disposition:\", data)\n",
    "searchAndReplace(r\"^checks$\", \"checks ok\", \"Disposition:\", data)\n",
    "searchAndReplace(r\"checks area,\", \"checks clear -\", \"Disposition:\", data)\n",
    "searchAndReplace(r\"checks clear-,\", \"checks clear - \", \"Disposition:\", data)\n",
    "searchAndReplace(r\"checks ok,\", \"checks ok -\", \"Disposition:\", data)\n",
    "searchAndReplace(r\"checks ok-\", \"checks ok - \", \"Disposition:\", data)\n",
    "searchAndReplace(r\"checks ok/ \", \"checks ok -\", \"Disposition:\", data)\n",
    "searchAndReplace(r\"checks ok/\", \"checks ok - \", \"Disposition:\", data)"
   ]
  },
  {
   "cell_type": "code",
   "execution_count": 76,
   "metadata": {},
   "outputs": [],
   "source": [
    "searchAndReplace(r\"refused\", \"declined\", \"Disposition:\", data)\n",
    "searchAndReplace(r\"denied\", \"declined\", \"Disposition:\", data)\n",
    "searchAndReplace(r\"no report taken\", \"no report desired\", \"Disposition:\", data)\n",
    "searchAndReplace(r\"no report wanted\", \"no report desired\", \"Disposition:\", data)\n",
    "searchAndReplace(r\"non affiliate\", \"non-affiliate\", \"Disposition:\", data)\n",
    "searchAndReplace(r\"one un affiliate issued stay away order\", \"non-affiliate issued stay away order\", \"Disposition:\", data)\n",
    "searchAndReplace(r\"departments\", \"department\", \"Disposition:\", data)\n",
    "searchAndReplace(r\"other department\", \"other agency\", \"Disposition:\", data)\n",
    "searchAndReplace(r\"ucsd department\", \"agency\", \"Disposition:\", data)\n",
    "searchAndReplace(r\"referred to res life\", \"referred to other agency - res life\", \"Disposition:\", data)\n",
    "searchAndReplace(r\"referred to risk management\", \"referred to other agency - risk management\", \"Disposition:\", data)\n",
    "searchAndReplace(r\"referred to security management\", \"referred to other agency - security management\", \"Disposition:\", data)\n",
    "searchAndReplace(r\"referred to student conduct\", \"referred to other agency - student conduct\", \"Disposition:\", data)\n",
    "searchAndReplace(r\"referred to student contact\", \"referred to other agency - student conduct\", \"Disposition:\", data)\n",
    "searchAndReplace(r\"referred to supervisor\", \"referred to other agency - supervisor\", \"Disposition:\", data)\n",
    "searchAndReplace(r\"referred to agency\", \"referred to other agency\", \"Disposition:\", data)\n",
    "searchAndReplace(r\"^accidental$\", \"accidental dial\", \"Disposition:\", data)\n",
    "searchAndReplace(r\"^clery report$\", \"clery report taken\", \"Disposition:\", data)\n",
    "searchAndReplace(r\"paramedics\", \"paramedic\", \"Disposition:\", data)\n",
    "searchAndReplace(r\"paramedic\", \"medics\", \"Disposition:\", data)\n",
    "searchAndReplace(r\"medic \", \"medics \", \"Disposition:\", data)\n",
    "searchAndReplace(r\"medic$\", \"medics\", \"Disposition:\", data)\n",
    "searchAndReplace(r\"turned into\", \"turned over\", \"Disposition:\", data)\n",
    "searchAndReplace(r\"service provide$\", \"service provided\", \"Disposition:\", data)\n",
    "searchAndReplace(r\"services report$\", \"service reported\", \"Disposition:\", data)\n",
    "searchAndReplace(r\"services$\", \"service\", \"Disposition:\", data)\n",
    "searchAndReplace(r\"police & medics\", \"police and medics\", \"Disposition:\", data)\n",
    "searchAndReplace(r\"fire/medics\", \"fire department and medics\", \"Disposition:\", data)\n",
    "searchAndReplace(r\"department/medics\", \"department and medics\", \"Disposition:\", data)\n",
    "searchAndReplace(r\"reunited with family\", \"returned to family\", \"Disposition:\", data)\n",
    "searchAndReplace(r\"handling\", \"will handle\", \"Disposition:\", data)\n",
    "searchAndReplace(r\"information report taken\", \"informational report taken\", \"Disposition:\", data)\n",
    "searchAndReplace(r\"contact card issued\", \"conduct card issued\", \"Disposition:\", data)\n",
    "searchAndReplace(r\"bones\", \"bone\", \"Disposition:\", data)\n",
    "searchAndReplace(r\"juvenile found\", \"juvenile located\", \"Disposition:\", data)"
   ]
  },
  {
   "cell_type": "code",
   "execution_count": 77,
   "metadata": {},
   "outputs": [],
   "source": [
    "searchAndReplace(r\"x1/ \", \"x1 -\", \"Disposition:\", data)\n",
    "searchAndReplace(r\"x1/\", \"x1 - \", \"Disposition:\", data)\n",
    "searchAndReplace(r\"x1,\", \"x1 -\", \"Disposition:\", data)\n",
    "searchAndReplace(r\"x1 &\", \"x1 -\", \"Disposition:\", data)\n",
    "searchAndReplace(r\" / \", \" - \", \"Disposition:\", data)\n",
    "searchAndReplace(r\"taken/\", \"taken - \", \"Disposition:\", data)\n",
    "searchAndReplace(r\"taken;\", \"taken -\", \"Disposition:\", data)\n",
    "searchAndReplace(r\"reports taken\", \"report taken\", \"Disposition:\", data)\n",
    "searchAndReplace(r\"attention\", \"aid\", \"Disposition:\", data)\n",
    "searchAndReplace(r\"unable o locate\", \"unable to locate\", \"Disposition:\", data)\n",
    "searchAndReplace(r\"x2 & \", \"x2 - \", \"Disposition:\", data)\n",
    "searchAndReplace(r\"x2,\", \"x2 -\", \"Disposition:\", data)\n",
    "searchAndReplace(r\"x2;\", \"x2 -\", \"Disposition:\", data)\n",
    "searchAndReplace(r\"x2/\", \"x2 - \", \"Disposition:\", data)\n",
    "searchAndReplace(r\"x3 & \", \"x3 - \", \"Disposition:\", data)\n",
    "searchAndReplace(r\"x3;\", \"x3 - \", \"Disposition:\", data)\n",
    "searchAndReplace(r\"x4/\", \"x4 - \", \"Disposition:\", data)\n",
    "searchAndReplace(r\"x11/\", \"x11 - \", \"Disposition:\", data)\n",
    "searchAndReplace(r\"x5,\", \"x5 -\", \"Disposition:\", data)\n",
    "searchAndReplace(r\"x7;\", \"x7 -\", \"Disposition:\", data)\n",
    "searchAndReplace(r\"only,\", \"only -\", \"Disposition:\", data)\n",
    "searchAndReplace(r\"only/ \", \"only -\", \"Disposition:\", data)\n",
    "searchAndReplace(r\"only/\", \"only - \", \"Disposition:\", data)"
   ]
  },
  {
   "cell_type": "code",
   "execution_count": 78,
   "metadata": {},
   "outputs": [],
   "source": [
    "searchAndReplace(r\"&\", \"and\", \"Disposition:\", data)"
   ]
  },
  {
   "cell_type": "code",
   "execution_count": 79,
   "metadata": {},
   "outputs": [],
   "source": [
    "searchAndReplace(r\"san diego police department\", \"sdpd\", \"Disposition:\", data)\n",
    "searchAndReplace(r\"san diego police\", \"sdpd\", \"Disposition:\", data)\n",
    "searchAndReplace(r\"sdpd\", \"san diego police department\", \"Disposition:\", data)"
   ]
  },
  {
   "cell_type": "code",
   "execution_count": 80,
   "metadata": {},
   "outputs": [],
   "source": [
    "searchAndReplace(r\"san diego fire department\", \"sdfd\", \"Disposition:\", data)\n",
    "searchAndReplace(r\"san diego fire\", \"sdfd\", \"Disposition:\", data)\n",
    "searchAndReplace(r\"fire department\", \"sdfd\", \"Disposition:\", data)\n",
    "searchAndReplace(r\"and fire\", \"and sdfd\", \"Disposition:\", data)\n",
    "searchAndReplace(r\"medics/fire\", \"medics and sdfd\", \"Disposition:\", data)\n",
    "searchAndReplace(r\"fire and medics\", \"sdfd and medics\", \"Disposition:\", data)\n",
    "searchAndReplace(r\"sdfd\", \"san diego fire department\", \"Disposition:\", data)"
   ]
  },
  {
   "cell_type": "code",
   "execution_count": 81,
   "metadata": {},
   "outputs": [],
   "source": [
    "searchAndReplace(r\"control/\", \"control and \", \"Disposition:\", data)\n",
    "searchAndReplace(r\"patrol/\", \"patrol and \", \"Disposition:\", data)\n",
    "searchAndReplace(r\"safety/\", \"safety and \", \"Disposition:\", data)\n",
    "searchAndReplace(r\"maintenance/\", \"maintenance and \", \"Disposition:\", data)\n",
    "searchAndReplace(r\"medics/\", \"medics and \", \"Disposition:\", data)\n",
    "searchAndReplace(r\"security/\", \"security and \", \"Disposition:\", data)\n",
    "searchAndReplace(r\"police/\", \"police and \", \"Disposition:\", data)\n",
    "searchAndReplace(r\"/agency\", \"\", \"Disposition:\", data)\n",
    "searchAndReplace(r\"6-8-2012\", \"6/8/2012\", \"Disposition:\", data)\n",
    "searchAndReplace(r\"11-14-2011\", \"11/14/2011\", \"Disposition:\", data)"
   ]
  },
  {
   "cell_type": "code",
   "execution_count": 82,
   "metadata": {},
   "outputs": [],
   "source": [
    "searchAndReplace(r\"-\", \" - \", \"Disposition:\", data)\n",
    "searchAndReplace(r\"/\", \" - \", \"Disposition:\", data)\n",
    "searchAndReplace(r\",\", \" -\", \"Disposition:\", data)\n",
    "searchAndReplace(r\"  \", \" \", \"Disposition:\", data)\n",
    "searchAndReplace(r\"  \", \" \", \"Disposition:\", data)"
   ]
  },
  {
   "cell_type": "code",
   "execution_count": 83,
   "metadata": {},
   "outputs": [],
   "source": [
    "searchAndReplace(r\"^referred to other agency - parking$\", \"referred to other agency - parking and transportation\", \"Disposition:\", data)\n",
    "searchAndReplace(r\"^referred to other agency - referred to other agency$\", \"referred to other agency\", \"Disposition:\", data)\n",
    "searchAndReplace(r\"referred to other agency - parking service\", \"referred to other agency - parking and transportation\", \"Disposition:\", data)"
   ]
  },
  {
   "cell_type": "code",
   "execution_count": 84,
   "metadata": {},
   "outputs": [
    {
     "data": {
      "text/html": [
       "<div>\n",
       "<style scoped>\n",
       "    .dataframe tbody tr th:only-of-type {\n",
       "        vertical-align: middle;\n",
       "    }\n",
       "\n",
       "    .dataframe tbody tr th {\n",
       "        vertical-align: top;\n",
       "    }\n",
       "\n",
       "    .dataframe thead th {\n",
       "        text-align: right;\n",
       "    }\n",
       "</style>\n",
       "<table border=\"1\" class=\"dataframe\">\n",
       "  <thead>\n",
       "    <tr style=\"text-align: right;\">\n",
       "      <th></th>\n",
       "      <th>Event</th>\n",
       "      <th>Location</th>\n",
       "      <th>Date Reported</th>\n",
       "      <th>Incident/Case#</th>\n",
       "      <th>Date Occurred</th>\n",
       "      <th>Time Occurred</th>\n",
       "      <th>Summary:</th>\n",
       "      <th>Disposition:</th>\n",
       "    </tr>\n",
       "  </thead>\n",
       "  <tbody>\n",
       "    <tr>\n",
       "      <th>0</th>\n",
       "      <td>Report of Undefined Theft</td>\n",
       "      <td>North America Hall</td>\n",
       "      <td>9/17/2013</td>\n",
       "      <td>2013-1440</td>\n",
       "      <td>9/17/2013</td>\n",
       "      <td>1:30 AM - 2:00 AM</td>\n",
       "      <td>Loss: $4011.00</td>\n",
       "      <td>Report Taken</td>\n",
       "    </tr>\n",
       "    <tr>\n",
       "      <th>1</th>\n",
       "      <td>Bicyclist Stop</td>\n",
       "      <td>Dance Studio</td>\n",
       "      <td>9/17/2013</td>\n",
       "      <td>130917005</td>\n",
       "      <td>9/17/2013</td>\n",
       "      <td>6:29 AM</td>\n",
       "      <td>NaN</td>\n",
       "      <td>Verbal Warning Issued</td>\n",
       "    </tr>\n",
       "    <tr>\n",
       "      <th>2</th>\n",
       "      <td>Unknown Trouble</td>\n",
       "      <td>1 Miramar Building 1</td>\n",
       "      <td>9/17/2013</td>\n",
       "      <td>130917020</td>\n",
       "      <td>9/17/2013</td>\n",
       "      <td>8:41 AM</td>\n",
       "      <td>Male yelling at female</td>\n",
       "      <td>Unable to Locate</td>\n",
       "    </tr>\n",
       "    <tr>\n",
       "      <th>3</th>\n",
       "      <td>Citizen Contact</td>\n",
       "      <td>Torrey Pines Center South</td>\n",
       "      <td>9/17/2013</td>\n",
       "      <td>130917031</td>\n",
       "      <td>9/17/2013</td>\n",
       "      <td>11:02 AM</td>\n",
       "      <td>NaN</td>\n",
       "      <td>Information Only</td>\n",
       "    </tr>\n",
       "    <tr>\n",
       "      <th>4</th>\n",
       "      <td>Citizen Contact</td>\n",
       "      <td>Torrey Pines Center South</td>\n",
       "      <td>9/17/2013</td>\n",
       "      <td>2013-1445</td>\n",
       "      <td>9/17/2013</td>\n",
       "      <td>11:03 AM</td>\n",
       "      <td>UCSD employee harassing staff</td>\n",
       "      <td>Report Taken</td>\n",
       "    </tr>\n",
       "    <tr>\n",
       "      <th>...</th>\n",
       "      <td>...</td>\n",
       "      <td>...</td>\n",
       "      <td>...</td>\n",
       "      <td>...</td>\n",
       "      <td>...</td>\n",
       "      <td>...</td>\n",
       "      <td>...</td>\n",
       "      <td>...</td>\n",
       "    </tr>\n",
       "    <tr>\n",
       "      <th>53330</th>\n",
       "      <td>Information</td>\n",
       "      <td>Mobil Station</td>\n",
       "      <td>11/6/2016</td>\n",
       "      <td>1611060060</td>\n",
       "      <td>11/6/2016</td>\n",
       "      <td>11:04 PM</td>\n",
       "      <td>Eucalyptus tree branch fell down on UCSD prope...</td>\n",
       "      <td>Referred To Other UCSD Department</td>\n",
       "    </tr>\n",
       "    <tr>\n",
       "      <th>53331</th>\n",
       "      <td>Noise Disturbance</td>\n",
       "      <td>La Jolla Playhouse</td>\n",
       "      <td>11/6/2016</td>\n",
       "      <td>1611060061</td>\n",
       "      <td>11/6/2016</td>\n",
       "      <td>11:05 PM</td>\n",
       "      <td>Loud event from across the street</td>\n",
       "      <td>Checks OK</td>\n",
       "    </tr>\n",
       "    <tr>\n",
       "      <th>53332</th>\n",
       "      <td>Noise Disturbance</td>\n",
       "      <td>Marshall Res Halls</td>\n",
       "      <td>11/6/2016</td>\n",
       "      <td>1611060062</td>\n",
       "      <td>11/6/2016</td>\n",
       "      <td>11:24 PM</td>\n",
       "      <td>Loud music and talking</td>\n",
       "      <td>Will Cooperate</td>\n",
       "    </tr>\n",
       "    <tr>\n",
       "      <th>53333</th>\n",
       "      <td>Excessive Alcohol</td>\n",
       "      <td>Marshall Res Halls</td>\n",
       "      <td>11/6/2016</td>\n",
       "      <td>2016-1510</td>\n",
       "      <td>11/16/2016</td>\n",
       "      <td>11:44 PM</td>\n",
       "      <td>Report of intoxicated female that was breathin...</td>\n",
       "      <td>Transported To Hospital</td>\n",
       "    </tr>\n",
       "    <tr>\n",
       "      <th>53334</th>\n",
       "      <td>Lost Property</td>\n",
       "      <td>The Village West Building 4</td>\n",
       "      <td>11/6/2016</td>\n",
       "      <td>1611060064</td>\n",
       "      <td>11/6/2016</td>\n",
       "      <td>11:55 PM</td>\n",
       "      <td>Found wallet</td>\n",
       "      <td>Service Provided</td>\n",
       "    </tr>\n",
       "  </tbody>\n",
       "</table>\n",
       "<p>53335 rows × 8 columns</p>\n",
       "</div>"
      ],
      "text/plain": [
       "                           Event                     Location Date Reported  \\\n",
       "0      Report of Undefined Theft           North America Hall     9/17/2013   \n",
       "1                 Bicyclist Stop                 Dance Studio     9/17/2013   \n",
       "2                Unknown Trouble         1 Miramar Building 1     9/17/2013   \n",
       "3                Citizen Contact    Torrey Pines Center South     9/17/2013   \n",
       "4                Citizen Contact    Torrey Pines Center South     9/17/2013   \n",
       "...                          ...                          ...           ...   \n",
       "53330                Information                Mobil Station     11/6/2016   \n",
       "53331          Noise Disturbance           La Jolla Playhouse     11/6/2016   \n",
       "53332          Noise Disturbance           Marshall Res Halls     11/6/2016   \n",
       "53333          Excessive Alcohol           Marshall Res Halls     11/6/2016   \n",
       "53334              Lost Property  The Village West Building 4     11/6/2016   \n",
       "\n",
       "      Incident/Case# Date Occurred      Time Occurred  \\\n",
       "0          2013-1440     9/17/2013  1:30 AM - 2:00 AM   \n",
       "1          130917005     9/17/2013            6:29 AM   \n",
       "2          130917020     9/17/2013            8:41 AM   \n",
       "3          130917031     9/17/2013           11:02 AM   \n",
       "4          2013-1445     9/17/2013           11:03 AM   \n",
       "...              ...           ...                ...   \n",
       "53330     1611060060     11/6/2016           11:04 PM   \n",
       "53331     1611060061     11/6/2016           11:05 PM   \n",
       "53332     1611060062     11/6/2016           11:24 PM   \n",
       "53333      2016-1510    11/16/2016           11:44 PM   \n",
       "53334     1611060064     11/6/2016           11:55 PM   \n",
       "\n",
       "                                                Summary:  \\\n",
       "0                                         Loss: $4011.00   \n",
       "1                                                    NaN   \n",
       "2                                 Male yelling at female   \n",
       "3                                                    NaN   \n",
       "4                          UCSD employee harassing staff   \n",
       "...                                                  ...   \n",
       "53330  Eucalyptus tree branch fell down on UCSD prope...   \n",
       "53331                  Loud event from across the street   \n",
       "53332                             Loud music and talking   \n",
       "53333  Report of intoxicated female that was breathin...   \n",
       "53334                                       Found wallet   \n",
       "\n",
       "                            Disposition:  \n",
       "0                           Report Taken  \n",
       "1                  Verbal Warning Issued  \n",
       "2                       Unable to Locate  \n",
       "3                       Information Only  \n",
       "4                           Report Taken  \n",
       "...                                  ...  \n",
       "53330  Referred To Other UCSD Department  \n",
       "53331                          Checks OK  \n",
       "53332                     Will Cooperate  \n",
       "53333            Transported To Hospital  \n",
       "53334                   Service Provided  \n",
       "\n",
       "[53335 rows x 8 columns]"
      ]
     },
     "execution_count": 84,
     "metadata": {},
     "output_type": "execute_result"
    }
   ],
   "source": [
    "data"
   ]
  },
  {
   "cell_type": "code",
   "execution_count": 85,
   "metadata": {},
   "outputs": [],
   "source": [
    "searchAndReplace(r\"‚äô\", \"'\", \"Summary:\", data)"
   ]
  },
  {
   "cell_type": "code",
   "execution_count": 86,
   "metadata": {},
   "outputs": [],
   "source": [
    "data.to_csv(\"aggregate.csv\", index=False)"
   ]
  },
  {
   "cell_type": "code",
   "execution_count": 87,
   "metadata": {},
   "outputs": [],
   "source": [
    "manualchecking(data)"
   ]
  },
  {
   "cell_type": "code",
   "execution_count": null,
   "metadata": {},
   "outputs": [],
   "source": []
  }
 ],
 "metadata": {
  "kernelspec": {
   "display_name": "Python 3",
   "language": "python",
   "name": "python3"
  },
  "language_info": {
   "codemirror_mode": {
    "name": "ipython",
    "version": 3
   },
   "file_extension": ".py",
   "mimetype": "text/x-python",
   "name": "python",
   "nbconvert_exporter": "python",
   "pygments_lexer": "ipython3",
   "version": "3.8.5"
  }
 },
 "nbformat": 4,
 "nbformat_minor": 2
}
