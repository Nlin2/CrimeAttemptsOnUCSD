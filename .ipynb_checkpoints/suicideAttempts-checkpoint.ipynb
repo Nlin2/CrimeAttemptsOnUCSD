{
 "cells": [
  {
   "cell_type": "markdown",
   "metadata": {},
   "source": [
    "## Introduction and Background\n",
    "### Research Question\n",
    "Do midterms and assignment deadlines in quarter system increase level of stress? Are suicide rates among students significantly higher during mid-quarter when students have to attend to midterms and homework?\n",
    "\n",
    "Being university students, we feel like the pressure of midterms can be overwhelming especially quarter system seem so fast-paced. So, we questioned if the stress from student obligations affects the suicide rates during \"midterm season\".\n",
    "\n",
    "Since all the UCSD police department incident reports are publicly accessable and stored as PDF files (www.police.ucsd.edu/docs/reports/CallsandArrests/Calls_and_Arrests.asp), we can clean and process the data to incidents we would like to analyze. To test our hypothesises' validity, we will use Chi-square test to test whether stress affects the suicide rates during mid-quater.\n",
    "\n",
    "### Background and Prior Work\n",
    "Nick obtained the dataset approximately a year ago, however, was unable to process the information due to the lack of knowledge required at the time. The 1000+ obtained files contained no clear tables, missing and inconsistent rows, spelling mistakes, and many variants of similar wordings. It wasn't until the Spring Break of 2019 that he obtained the knowledge required to clean and process all the data in the PDF files.\n",
    "Only a small portion of the dataset will be used, but it should be enough to build a time series regression model with an accuracy ideally above guessing.\n",
    "\n",
    "We will cross-compare our results with the information against the 2016-17 annual UCSD CAPS reports from the other UC's, in order to see if UCSD is lacking in mental health aid for students and faculty. In total, suicide total incidents include the following from the CAPS information: Suicide Completed, Suicide Attempts (serious, requiring emergency care) and suicide threats. CAPS also allows us to dive into general population that is actually receiving the most amount of clinical care, however, it stops at that not providing information on statistics for the UC general body suicide attempts, etc. If CAPS were to use the clinical stats to prevent potential suicide attempts they can possibly deter thoughts or actions on themselves through outreach programs.\n",
    "\n",
    "Prior studies based on suicide explore more into the victims mental health and pysche in an attempt to anticpate and hopefully prevent a suicide attempt. In \"Clues to Suicide\" by Schneidman and Farberow, raw data of victims' psychiatric case histories, psychological test results, and suicide notes were consolidated so that a statistical comparison might be made. The results of the comparison revealed 3 things:\n",
    "\n",
    "It is pratically impossible to distinguish a possible suicide attempter from details of his case study alone despite how traumatic. For example, many people in one group were children of broken homes, the study showed that the only way to distinguish the members of this group was by getting a record of mental history of the memebers.\n",
    "\n",
    "The second study revealed that nearly 75% of the victims who have commited suicide had a history of attempting or threathening to attempt suicide. Showing that such acts and threats should be taken seriously. (Although a suicide threat or gesture does not neccesarily indicate a possible attempter.)\n",
    "\n",
    "Almost half of the inidividiuals who commited suicide after leaving the hospital did so within 90 days of being discharged. The third indication is more of a time based observation and shows that suicide attempters that have been released from the hospital's care should still be carefully monitored\n",
    "\n",
    "## Hypothesis\n",
    "By utilizing police and Counseling and Psychological Services (CAPS) reports as foundational pieces in our data recording in predicting student suicide attempts. We believe that suicide attempts will trend with the rising levels of stress as students progress through the academic quarter. If such is true, we can then accurately predict the rate of suicide attempts through out the 11 week period of each quarter, with increasing amount of suicide attempts each week of the quarter. Taking the factors listed into consideration we make the assumption that the suicide attempts are correlated to stress from school, and we are mainly finding the rate of attempts throughput the quarter."
   ]
  },
  {
   "cell_type": "code",
   "execution_count": 2,
   "metadata": {},
   "outputs": [],
   "source": [
    "import pandas as pd\n",
    "import numpy as np\n",
    "import matplotlib.pyplot as plt\n",
    "from datetime import date, timedelta, datetime\n",
    "import re\n",
    "import scipy.stats as stats"
   ]
  },
  {
   "cell_type": "markdown",
   "metadata": {},
   "source": [
    "## Dataset: Cleaning and Setup\n",
    "The crime logs are a set of unstructured data in a pdf file format. The following steps are required and the along with the corresponding ipynb file:  \n",
    "\n",
    "1. Manually deleted old versions and keep the updated as to cut down on extraneous crime logs.  \n",
    "2. Merge the PDF files into their corresponding years for easier handling.  \n",
    "* PDF_Merger.ipynb  \n",
    "3. Convert to the PDF's into CSV files using the Tabula application  \n",
    "* pdf_to_raw_CSV.sh  \n",
    "4. Convert the raw CSV files prone of syntatical errors into a cleaner CSV files with the correct table setup. Manually input the crime logs the Tabula application missed.  \n",
    "* CSV_Cleaner.ipynb  \n",
    "5. Combine the various correct table CSV files into one large CSV file.  \n",
    "* Clean_CSV_Merging.ipynb  \n",
    "6. Standardize text, correct errors and mispellings made by the original crime log makers.  \n",
    "* Clean_CSV_Manual_Proccessing.ipynb  "
   ]
  },
  {
   "cell_type": "markdown",
   "metadata": {},
   "source": [
    "#### Aggregate.csv\n",
    "- Dataset Name: aggregate.csv\n",
    "- Link to the partial dataset: http://www.police.ucsd.edu/docs/reports/CallsandArrests/Calls_and_Arrests.asp\n",
    "- Number of observations: 53236\n",
    "\n",
    "This dataset is all incidents being reported to UCSD police department from September 2011 to February of 2018. The data include brief summaries of incidents, incident number, date and time incidents occured, location and deposition."
   ]
  },
  {
   "cell_type": "code",
   "execution_count": 3,
   "metadata": {},
   "outputs": [],
   "source": [
    "df = pd.read_csv(\"DataCleaningProcessing/aggregate.csv\")\n",
    "\n",
    "# Boolean Filters\n",
    "suicideSearcher = lambda x: bool(re.search(r\"suicid\", x)) if type(x) == str else False\n",
    "harmKillSelfSearcher = lambda x: bool(re.search(r\"(kill|harm|hurt).*self\", x)) if type(x) == str else False\n",
    "depressSearcher = lambda x: bool(re.search(r\"depress\", x)) if type(x) == str else False\n",
    "\n",
    "df = df[(df[\"Summary:\"].map(suicideSearcher)) | (df[\"Event\"].map(suicideSearcher)) | (df[\"Summary:\"].map(harmKillSelfSearcher)) | (df[\"Summary:\"].map(depressSearcher))]\n",
    "df.reset_index(inplace=True, drop=True)"
   ]
  },
  {
   "cell_type": "code",
   "execution_count": 4,
   "metadata": {},
   "outputs": [],
   "source": [
    "# Datetime conversion\n",
    "df[\"Date Occurred\"].replace({\"Unknown\": np.nan, \"10/19/20106\": \"10/19/2016\"}, inplace=True) # bad data\n",
    "\n",
    "# gets the last date if range given in date occured column\n",
    "latestDateF = lambda s: re.search(r\"\\d{0,2}/\\d{0,2}/\\d{4}$\", s).group(0) if pd.notnull(s) else s\n",
    "df[\"Date Occurred\"] = df[\"Date Occurred\"].apply(latestDateF)\n",
    "\n",
    "# conversion to datetime\n",
    "todatetime = lambda s: datetime.strptime(s,\"%m/%d/%Y\") if pd.notnull(s) else s\n",
    "df[\"Date Occurred\"] = df[\"Date Occurred\"].apply(todatetime)\n",
    "\n",
    "# get the number of attempts by day\n",
    "attempts = df[\"Date Occurred\"].value_counts()\n",
    "dates = attempts.sort_index().index\n",
    "date_set = set(dates[0] + timedelta(x) for x in range((dates[-1] - dates[0]).days))\n",
    "missing = sorted(date_set - set(dates))\n",
    "for day in missing:\n",
    "    attempts[day] = 0\n",
    "attempts = attempts.sort_index()"
   ]
  },
  {
   "cell_type": "code",
   "execution_count": 5,
   "metadata": {},
   "outputs": [],
   "source": [
    "# We want full years, since 2011 and 2018 are not full, we'll get rid of all values in that year.\n",
    "attempts = attempts[attempts.index.year != 2018]\n",
    "attempts = attempts[attempts.index.year != 2011]"
   ]
  },
  {
   "cell_type": "code",
   "execution_count": 6,
   "metadata": {},
   "outputs": [],
   "source": [
    "# Uniform data for comparisons sake\n",
    "dates = attempts.index\n",
    "uniform_data = pd.Series([0 for _ in range(len(dates))], index = dates)\n",
    "for i in np.random.randint(len(dates), size=attempts.sum()):\n",
    "    uniform_data.iloc[i] += 1"
   ]
  },
  {
   "cell_type": "markdown",
   "metadata": {},
   "source": [
    "## Understanding our data"
   ]
  },
  {
   "cell_type": "code",
   "execution_count": 35,
   "metadata": {},
   "outputs": [
    {
     "data": {
      "text/plain": [
       "459"
      ]
     },
     "execution_count": 35,
     "metadata": {},
     "output_type": "execute_result"
    }
   ],
   "source": [
    "attempts.sum()"
   ]
  },
  {
   "cell_type": "code",
   "execution_count": 33,
   "metadata": {},
   "outputs": [
    {
     "data": {
      "image/png": "[encoded data removed]",
      "text/plain": [
       "<Figure size 2160x360 with 1 Axes>"
      ]
     },
     "metadata": {
      "needs_background": "light"
     },
     "output_type": "display_data"
    }
   ],
   "source": [
    "# Bar Graph to help visualize the number of attempts per day through a 5 year period\n",
    "plt.figure(figsize=(30,5))\n",
    "plt.bar(attempts.index, attempts)\n",
    "plt.title(\"Suicide and Self-Harm Attempts on Campus by Day\")\n",
    "plt.xlabel(\"Day\")\n",
    "plt.yticks(np.arange(0,5))\n",
    "plt.ylabel(\"Number of Recorded Attempts\")\n",
    "plt.show()"
   ]
  },
  {
   "cell_type": "markdown",
   "metadata": {},
   "source": [
    "We see some clustering (the darker areas). However, it is still possible this is a result of chance by uniform distribution. We know that if the suicide attempts are in fact a uniform distribution, it indicates that we cannot predict the when attempts occur."
   ]
  },
  {
   "cell_type": "code",
   "execution_count": 8,
   "metadata": {},
   "outputs": [
    {
     "data": {
      "image/png": "[encoded data removed]",
      "text/plain": [
       "<Figure size 2160x360 with 1 Axes>"
      ]
     },
     "metadata": {
      "needs_background": "light"
     },
     "output_type": "display_data"
    }
   ],
   "source": [
    "plt.figure(figsize=(30,5))\n",
    "plt.bar(uniform_data.index, uniform_data)\n",
    "plt.title(\"Suicide and Self-Harm Attempts on Campus by Day (Simulated-Uniform)\")\n",
    "plt.xlabel(\"Day\")\n",
    "plt.yticks(np.arange(0,5))\n",
    "plt.ylabel(\"Number of Recorded Attempts\")\n",
    "plt.show()"
   ]
  },
  {
   "cell_type": "markdown",
   "metadata": {},
   "source": [
    "Both graphs look visually similar, this means here is a high likelyhood that the suicide attempts are in fact uniformly randomly distributed"
   ]
  },
  {
   "cell_type": "markdown",
   "metadata": {},
   "source": [
    "We now want to look at the data with it \"more clumped up.\" We will see if a pattern/non-uniform distribution exists by:\n",
    "1. Year\n",
    "2. Month\n",
    "3. Quarter (11 week period per quarter including finals)  \n",
    "However, because of the increasing population of UCSD throughout the 5 year period, we'll need to be using the rate of attempts by dividing the attempts by the number of total students attending."
   ]
  },
  {
   "cell_type": "code",
   "execution_count": 9,
   "metadata": {},
   "outputs": [],
   "source": [
    "# Convert to percentage of student population\n",
    "# Source:\n",
    "# https://ir.ucsd.edu/_files/stats-data/profile/profile-2012.pdf\n",
    "# https://ir.ucsd.edu/_files/stats-data/profile/profile-2013.pdf\n",
    "# https://ir.ucsd.edu/_files/stats-data/profile/profile-2014.pdf\n",
    "# https://ir.ucsd.edu/_files/stats-data/profile/profile-2015.pdf\n",
    "# https://ir.ucsd.edu/_files/stats-data/profile/profile-2016-2017.pdf\n",
    "# https://ir.ucsd.edu/_files/stats-data/profile/profile-2017-2018.pdf\n",
    "totCampusPop = {2012: 29052, 2013: 30310, 2014: 31502, 2015: 33735, 2016: 35816, 2017: 36624}\n",
    "totCampusPopL = [29052, 30310, 31502, 33735, 35816, 36624]\n",
    "attemptRates = attempts.astype(np.float128)\n",
    "for i in attemptRates.index:\n",
    "    if i.year == 2012:\n",
    "        attemptRates[i] = attemptRates[i] / totCampusPop[2012]\n",
    "    if i.year == 2013:\n",
    "        attemptRates[i] = attemptRates[i] / totCampusPop[2013]\n",
    "    if i.year == 2014:\n",
    "        attemptRates[i] = attemptRates[i] / totCampusPop[2014]\n",
    "    if i.year == 2015:\n",
    "        attemptRates[i] = attemptRates[i] / totCampusPop[2015]\n",
    "    if i.year == 2016:\n",
    "        attemptRates[i] = attemptRates[i] / totCampusPop[2016]\n",
    "    if i.year == 2017:\n",
    "        attemptRates[i] = attemptRates[i] / totCampusPop[2017]"
   ]
  },
  {
   "cell_type": "code",
   "execution_count": 10,
   "metadata": {},
   "outputs": [
    {
     "data": {
      "image/png": "[encoded data removed]",
      "text/plain": [
       "<Figure size 432x288 with 1 Axes>"
      ]
     },
     "metadata": {
      "needs_background": "light"
     },
     "output_type": "display_data"
    }
   ],
   "source": [
    "# 95% CI of the Annual Rate of Attempts\n",
    "yearMEAN = np.array(attemptRates.groupby(attemptRates.index.map(lambda x: x.year)).mean())\n",
    "yearSTD = np.array(attemptRates.groupby(attemptRates.index.map(lambda x: x.year)).std())\n",
    "N = len(np.array(attemptRates.groupby(attemptRates.index.map(lambda x: x.year))))\n",
    "Z = 1.96\n",
    "        \n",
    "# low and high boundaries\n",
    "yearL95 = yearMEAN - Z * (yearSTD / np.sqrt(5))\n",
    "yearH95 = yearMEAN + Z * (yearSTD / np.sqrt(5))\n",
    "\n",
    "# approximate Conversion annual rate (ignoring leaps)\n",
    "yearMEAN *= 365\n",
    "yearH95 *= 365\n",
    "yearL95 *= 365\n",
    "\n",
    "# Can't have a negative value\n",
    "for i in range(len(yearL95)):\n",
    "    if yearL95[i] < 0:\n",
    "        yearL95[i] = 0\n",
    "\n",
    "# Plot creation\n",
    "plt.title(\"95% CI of the Annual Rate of Attempts (Sample)\")\n",
    "plt.ylabel(\"Annual Rate of Attempts\")\n",
    "plt.xlabel(\"Year\")\n",
    "plt.plot(yearH95, label=\"High\")\n",
    "plt.plot(yearMEAN, label=\"Mean\")\n",
    "plt.plot(yearL95, label=\"Low\")\n",
    "plt.legend()\n",
    "plt.xticks(np.arange(0, 6), np.arange(2012, 2018))\n",
    "plt.show()"
   ]
  },
  {
   "cell_type": "markdown",
   "metadata": {},
   "source": [
    "We see a higher standard deviation in our sample data comparative to our simulated uniform data; however, the mean is still roughly the same between the two samples. This indicates that there has not been much change in the rate of attempts of UCSD students throughout the five years"
   ]
  },
  {
   "cell_type": "code",
   "execution_count": 11,
   "metadata": {},
   "outputs": [
    {
     "data": {
      "text/html": [
       "<div>\n",
       "<style scoped>\n",
       "    .dataframe tbody tr th:only-of-type {\n",
       "        vertical-align: middle;\n",
       "    }\n",
       "\n",
       "    .dataframe tbody tr th {\n",
       "        vertical-align: top;\n",
       "    }\n",
       "\n",
       "    .dataframe thead th {\n",
       "        text-align: right;\n",
       "    }\n",
       "</style>\n",
       "<table border=\"1\" class=\"dataframe\">\n",
       "  <thead>\n",
       "    <tr style=\"text-align: right;\">\n",
       "      <th></th>\n",
       "      <th>Actual</th>\n",
       "      <th>Expected</th>\n",
       "    </tr>\n",
       "  </thead>\n",
       "  <tbody>\n",
       "    <tr>\n",
       "      <th>2012</th>\n",
       "      <td>67.000000</td>\n",
       "      <td>67.163985</td>\n",
       "    </tr>\n",
       "    <tr>\n",
       "      <th>2013</th>\n",
       "      <td>52.717255</td>\n",
       "      <td>67.163985</td>\n",
       "    </tr>\n",
       "    <tr>\n",
       "      <th>2014</th>\n",
       "      <td>63.633674</td>\n",
       "      <td>67.163985</td>\n",
       "    </tr>\n",
       "    <tr>\n",
       "      <th>2015</th>\n",
       "      <td>65.449889</td>\n",
       "      <td>67.163985</td>\n",
       "    </tr>\n",
       "    <tr>\n",
       "      <th>2016</th>\n",
       "      <td>85.170315</td>\n",
       "      <td>67.163985</td>\n",
       "    </tr>\n",
       "    <tr>\n",
       "      <th>2017</th>\n",
       "      <td>69.012779</td>\n",
       "      <td>67.163985</td>\n",
       "    </tr>\n",
       "  </tbody>\n",
       "</table>\n",
       "</div>"
      ],
      "text/plain": [
       "         Actual   Expected\n",
       "2012  67.000000  67.163985\n",
       "2013  52.717255  67.163985\n",
       "2014  63.633674  67.163985\n",
       "2015  65.449889  67.163985\n",
       "2016  85.170315  67.163985\n",
       "2017  69.012779  67.163985"
      ]
     },
     "execution_count": 11,
     "metadata": {},
     "output_type": "execute_result"
    }
   ],
   "source": [
    "# Chi-Square against uniform distribution\n",
    "NumOfAttemptsAnnual = attempts.groupby(attempts.index.map(lambda x: x.year)).sum()\n",
    "percentNormalizaion = totCampusPopL[0] / np.array(totCampusPopL)\n",
    "num = pd.DataFrame(NumOfAttemptsAnnual)\n",
    "num[\"Date Occurred\"] = num[\"Date Occurred\"] * percentNormalizaion\n",
    "num[\"Expected\"] = [np.mean(num[\"Date Occurred\"]) for _ in range(len(num))]\n",
    "num.rename(columns={\"Date Occurred\": \"Actual\"}, inplace=True)\n",
    "num"
   ]
  },
  {
   "cell_type": "code",
   "execution_count": 12,
   "metadata": {},
   "outputs": [
    {
     "data": {
      "text/plain": [
       "Power_divergenceResult(statistic=8.215445710491077, pvalue=0.1447548971812181)"
      ]
     },
     "execution_count": 12,
     "metadata": {},
     "output_type": "execute_result"
    }
   ],
   "source": [
    "stats.chisquare(f_obs=num[\"Actual\"], f_exp=num[\"Expected\"])"
   ]
  },
  {
   "cell_type": "markdown",
   "metadata": {},
   "source": [
    "We do not reject the null hypothesis: the annual rate of suicide attempts is uniform"
   ]
  },
  {
   "cell_type": "code",
   "execution_count": 38,
   "metadata": {},
   "outputs": [
    {
     "data": {
      "image/png": "[encoded data removed]",
      "text/plain": [
       "<Figure size 432x288 with 1 Axes>"
      ]
     },
     "metadata": {
      "needs_background": "light"
     },
     "output_type": "display_data"
    }
   ],
   "source": [
    "# 95% CI of the monthly rate of attemps - sample\n",
    "monthMEAN = attemptRates.groupby(attemptRates.index.map(lambda x: x.month)).mean()\n",
    "monthSTD = attemptRates.groupby(attemptRates.index.map(lambda x: x.month)).std()\n",
    "N = len(np.array(attemptRates.groupby(attemptRates.index.map(lambda x: x.month))))\n",
    "\n",
    "monthL95 = monthMEAN - Z * (monthSTD / np.sqrt(N))\n",
    "monthH95 = monthMEAN + Z * (monthSTD / np.sqrt(N))\n",
    "\n",
    "# No negative numbers\n",
    "for i in range(len(monthL95)):\n",
    "    if monthL95.iloc[i] < 0:\n",
    "        monthL95.iloc[i] = 0\n",
    "\n",
    "# approximate Conversion monthly rate\n",
    "monthH95 *= 365/12\n",
    "monthMEAN *= 365/12\n",
    "monthL95 *= 365/12\n",
    "\n",
    "#plt.plot(monthH95, label=\"High\")\n",
    "plt.plot(monthMEAN, label=\"Average Rate of Attempts\")\n",
    "#plt.plot(monthL95, label=\"Low\")\n",
    "#plt.legend()\n",
    "plt.xlabel(\"Month\")\n",
    "plt.xticks(np.arange(1, 13), [\"Jan\", \"Feb\", \"Mar\", \"Apr\", \"May\", \"Jun\", \"Jul\", \"Aug\", \"Sep\", \"Oct\", \"Nov\", \"Dec\"])\n",
    "plt.ylabel(\"Rate of Attempts\")\n",
    "plt.title(\" Monthly Rate of Attempts\")\n",
    "plt.show()"
   ]
  },
  {
   "cell_type": "markdown",
   "metadata": {},
   "source": [
    "At first it appears that the monthly rates between the sample and the simulated data are roughly the same. However, upon closer inspection, we see that the rate of attempts actually coincides with the academic quarters. We see that during the breaks (i.e. Summer, Winter, and Spring) there is a dramatic drop. This is perhaps due to a mixture the students leaving campus and therefor decreasing the population and our hypothesis that stress from the progression of the academic quarter leads to a spike in the attempts."
   ]
  },
  {
   "cell_type": "code",
   "execution_count": 14,
   "metadata": {},
   "outputs": [
    {
     "data": {
      "text/html": [
       "<div>\n",
       "<style scoped>\n",
       "    .dataframe tbody tr th:only-of-type {\n",
       "        vertical-align: middle;\n",
       "    }\n",
       "\n",
       "    .dataframe tbody tr th {\n",
       "        vertical-align: top;\n",
       "    }\n",
       "\n",
       "    .dataframe thead th {\n",
       "        text-align: right;\n",
       "    }\n",
       "</style>\n",
       "<table border=\"1\" class=\"dataframe\">\n",
       "  <thead>\n",
       "    <tr style=\"text-align: right;\">\n",
       "      <th></th>\n",
       "      <th>Actual</th>\n",
       "      <th>Expected</th>\n",
       "    </tr>\n",
       "  </thead>\n",
       "  <tbody>\n",
       "    <tr>\n",
       "      <th>1</th>\n",
       "      <td>32</td>\n",
       "      <td>38.25</td>\n",
       "    </tr>\n",
       "    <tr>\n",
       "      <th>2</th>\n",
       "      <td>50</td>\n",
       "      <td>38.25</td>\n",
       "    </tr>\n",
       "    <tr>\n",
       "      <th>3</th>\n",
       "      <td>37</td>\n",
       "      <td>38.25</td>\n",
       "    </tr>\n",
       "    <tr>\n",
       "      <th>4</th>\n",
       "      <td>40</td>\n",
       "      <td>38.25</td>\n",
       "    </tr>\n",
       "    <tr>\n",
       "      <th>5</th>\n",
       "      <td>53</td>\n",
       "      <td>38.25</td>\n",
       "    </tr>\n",
       "    <tr>\n",
       "      <th>6</th>\n",
       "      <td>43</td>\n",
       "      <td>38.25</td>\n",
       "    </tr>\n",
       "    <tr>\n",
       "      <th>7</th>\n",
       "      <td>35</td>\n",
       "      <td>38.25</td>\n",
       "    </tr>\n",
       "    <tr>\n",
       "      <th>8</th>\n",
       "      <td>30</td>\n",
       "      <td>38.25</td>\n",
       "    </tr>\n",
       "    <tr>\n",
       "      <th>9</th>\n",
       "      <td>23</td>\n",
       "      <td>38.25</td>\n",
       "    </tr>\n",
       "    <tr>\n",
       "      <th>10</th>\n",
       "      <td>43</td>\n",
       "      <td>38.25</td>\n",
       "    </tr>\n",
       "    <tr>\n",
       "      <th>11</th>\n",
       "      <td>44</td>\n",
       "      <td>38.25</td>\n",
       "    </tr>\n",
       "    <tr>\n",
       "      <th>12</th>\n",
       "      <td>29</td>\n",
       "      <td>38.25</td>\n",
       "    </tr>\n",
       "  </tbody>\n",
       "</table>\n",
       "</div>"
      ],
      "text/plain": [
       "    Actual  Expected\n",
       "1       32     38.25\n",
       "2       50     38.25\n",
       "3       37     38.25\n",
       "4       40     38.25\n",
       "5       53     38.25\n",
       "6       43     38.25\n",
       "7       35     38.25\n",
       "8       30     38.25\n",
       "9       23     38.25\n",
       "10      43     38.25\n",
       "11      44     38.25\n",
       "12      29     38.25"
      ]
     },
     "execution_count": 14,
     "metadata": {},
     "output_type": "execute_result"
    }
   ],
   "source": [
    "# Chi-Square against uniform distribution\n",
    "NumOfAttemptsMonthly = attempts.groupby(attempts.index.map(lambda x: x.month)).sum()\n",
    "num = pd.DataFrame(NumOfAttemptsMonthly)\n",
    "num[\"Date Occurred\"] = num[\"Date Occurred\"]\n",
    "num[\"Expected\"] = [np.mean(num[\"Date Occurred\"]) for _ in range(len(num))]\n",
    "num.rename(columns={\"Date Occurred\": \"Actual\"}, inplace=True)\n",
    "num"
   ]
  },
  {
   "cell_type": "code",
   "execution_count": 15,
   "metadata": {},
   "outputs": [
    {
     "data": {
      "text/plain": [
       "Power_divergenceResult(statistic=22.856209150326794, pvalue=0.01851870355999591)"
      ]
     },
     "execution_count": 15,
     "metadata": {},
     "output_type": "execute_result"
    }
   ],
   "source": [
    "stats.chisquare(f_obs=num[\"Actual\"], f_exp=num[\"Expected\"])"
   ]
  },
  {
   "cell_type": "markdown",
   "metadata": {},
   "source": [
    "We reject the null hypothesis: the monthly rate of suicide attempts is not uniform."
   ]
  },
  {
   "cell_type": "code",
   "execution_count": 16,
   "metadata": {},
   "outputs": [],
   "source": [
    "# Quarter Total - sample\n",
    "def betweenDates(date, start, end):\n",
    "    return start <= date <= end\n",
    "\n",
    "# Start dates\n",
    "# Source - google docs\n",
    "\n",
    "# Fall\n",
    "startFall = [\"09/27/12\", \"09/26/13\", \"10/02/14\", \"09/24/15\", \"09/22/16\", \"09/28/17\"]\n",
    "endFall = [\"12/15/12\", \"12/14/13\", \"12/20/14\", \"12/12/15\", \"12/10/16\", \"12/16/17\"]\n",
    "# Winter\n",
    "startWinter = [\"01/09/12\", \"01/07/13\", \"01/06/14\", \"01/05/15\", \"01/04/16\", \"01/09/17\"]\n",
    "endWinter = [\"03/24/12\", \"03/23/13\", \"03/22/14\", \"03/21/15\", \"03/19/16\", \"03/25/17\"]\n",
    "# Spring\n",
    "startSpring = [\"04/02/12\", \"04/01/13\", \"03/31/14\", \"03/30/15\", \"03/28/16\", \"04/03/17\"]\n",
    "endSpring = [\"06/15/12\", \"06/14/13\", \"06/13/14\", \"06/12/15\", \"06/10/16\", \"06/16/17\"]\n",
    "\n",
    "# Conversion\n",
    "startFall = [datetime.strptime(d, \"%m/%d/%y\") for d in startFall]\n",
    "endFall = [datetime.strptime(d, \"%m/%d/%y\") for d in endFall]\n",
    "startWinter = [datetime.strptime(d, \"%m/%d/%y\") for d in startWinter]\n",
    "endWinter = [datetime.strptime(d, \"%m/%d/%y\") for d in endWinter]\n",
    "startSpring = [datetime.strptime(d, \"%m/%d/%y\") for d in startSpring]\n",
    "endSpring = [datetime.strptime(d, \"%m/%d/%y\") for d in endSpring]\n",
    "\n",
    "# Attempt Rates\n",
    "fallRates = [];\n",
    "for start, end in zip(startFall, endFall):\n",
    "    fallRates.append(attemptRates[attemptRates.index.map(lambda x: betweenDates(x, start, end))])\n",
    "winterRates = [];\n",
    "for start, end in zip(startWinter, endWinter):\n",
    "    winterRates.append(attemptRates[attemptRates.index.map(lambda x: betweenDates(x, start, end))])\n",
    "springRate = [];\n",
    "for start, end in zip(startSpring, endSpring):\n",
    "    springRate.append(attemptRates[attemptRates.index.map(lambda x: betweenDates(x, start, end))])"
   ]
  },
  {
   "cell_type": "code",
   "execution_count": 17,
   "metadata": {},
   "outputs": [
    {
     "data": {
      "image/png": "[encoded data removed]",
      "text/plain": [
       "<Figure size 432x288 with 1 Axes>"
      ]
     },
     "metadata": {
      "needs_background": "light"
     },
     "output_type": "display_data"
    }
   ],
   "source": [
    "f = np.mean(fallRates) * np.array(fallRates).shape[1]\n",
    "w = np.mean(winterRates) * np.array(winterRates).shape[1]\n",
    "s = np.mean(springRate) * np.array(springRate).shape[1]\n",
    "plt.bar([\"Fall\", \"Winter\", \"Spring\"], [f, w, s])\n",
    "plt.title(\"Quarterly Rate of Attempts (Sample)\")\n",
    "plt.show()"
   ]
  },
  {
   "cell_type": "markdown",
   "metadata": {},
   "source": [
    "Aside from the slight increase in the rates during Spring quarter, we see that that the rates between the three academic quarters are rather uniform even without the use of chi-square. This indicates, that using the quarters to try and predict the occurances of suicides attempt is not possible. However, if we look at the rates of attempts per week during the quarters, we might be able to find a better prediction pattern that we can use to forecast future attempts."
   ]
  },
  {
   "cell_type": "code",
   "execution_count": 18,
   "metadata": {},
   "outputs": [],
   "source": [
    "# Find the weekly rates of attempts\n",
    "weekMean = attemptRates.groupby(pd.Grouper(freq='W-MON')).mean() * 7\n",
    "\n",
    "fallRates = []\n",
    "winterRates = []\n",
    "springRates = []\n",
    "\n",
    "for i in range(len(startFall)):\n",
    "    fallRates.append(weekMean[(startFall[i] <= weekMean.index) & (weekMean.index <= endFall[i])])\n",
    "    winterRates.append(weekMean[(startWinter[i] <= weekMean.index) & (weekMean.index <= endWinter[i])])\n",
    "    springRates.append(weekMean[(startSpring[i] <= weekMean.index) & (weekMean.index <= endSpring[i])])"
   ]
  },
  {
   "cell_type": "code",
   "execution_count": 19,
   "metadata": {},
   "outputs": [],
   "source": [
    "totalWeeks = np.array(fallRates + winterRates + springRates)\n",
    "f = np.array(fallRates)\n",
    "w = np.array(winterRates)\n",
    "s = np.array(springRates)"
   ]
  },
  {
   "cell_type": "code",
   "execution_count": 39,
   "metadata": {},
   "outputs": [
    {
     "data": {
      "image/png": "[encoded data removed]",
      "text/plain": [
       "<Figure size 432x288 with 1 Axes>"
      ]
     },
     "metadata": {
      "needs_background": "light"
     },
     "output_type": "display_data"
    }
   ],
   "source": [
    "plt.bar(np.arange(1, 12), totalWeeks.mean(axis=0))\n",
    "plt.xlabel(\"Week of Quarter\")\n",
    "plt.xticks(np.arange(1, 12))\n",
    "plt.ylabel(\"Rate of Attempts\")\n",
    "plt.title(\"Rate of Attempts per Week During Academic Quarter\")\n",
    "plt.show()"
   ]
  },
  {
   "cell_type": "code",
   "execution_count": 21,
   "metadata": {},
   "outputs": [
    {
     "data": {
      "image/png": "[encoded data removed]",
      "text/plain": [
       "<Figure size 432x288 with 1 Axes>"
      ]
     },
     "metadata": {
      "needs_background": "light"
     },
     "output_type": "display_data"
    }
   ],
   "source": [
    "plt.bar(np.arange(1, 12) - .2, f.mean(axis=0), width=.2, label=\"Fall\", color=\"orange\", alpha=.8)\n",
    "plt.bar(np.arange(1, 12), w.mean(axis=0), width=.2, label=\"Winter\", color=\"darkgrey\")\n",
    "plt.bar(np.arange(1, 12) + .2, s.mean(axis=0), width=.2, label=\"Spring\", color=\"green\", alpha=.9)\n",
    "\n",
    "plt.xlabel(\"Week of Quarter\")\n",
    "plt.xticks(np.arange(1, 12))\n",
    "\n",
    "plt.ylabel(\"Rate of Attempts\")\n",
    "plt.title(\"Rate of Attempts per Week by Academic Quarter (Sample)\")\n",
    "plt.legend()\n",
    "plt.show()"
   ]
  },
  {
   "cell_type": "markdown",
   "metadata": {},
   "source": [
    "Spring quarter has the a high attempt number after midterms. Fall is more uniform through out the quarter in number of attempts. Winter Quarter peaks during the midterm seasons and falls during the last two weeks of the quarter."
   ]
  },
  {
   "cell_type": "code",
   "execution_count": 22,
   "metadata": {
    "scrolled": true
   },
   "outputs": [
    {
     "data": {
      "text/html": [
       "<div>\n",
       "<style scoped>\n",
       "    .dataframe tbody tr th:only-of-type {\n",
       "        vertical-align: middle;\n",
       "    }\n",
       "\n",
       "    .dataframe tbody tr th {\n",
       "        vertical-align: top;\n",
       "    }\n",
       "\n",
       "    .dataframe thead th {\n",
       "        text-align: right;\n",
       "    }\n",
       "</style>\n",
       "<table border=\"1\" class=\"dataframe\">\n",
       "  <thead>\n",
       "    <tr style=\"text-align: right;\">\n",
       "      <th></th>\n",
       "      <th>Week</th>\n",
       "      <th>Rate Observed</th>\n",
       "      <th>Rate Expected</th>\n",
       "    </tr>\n",
       "  </thead>\n",
       "  <tbody>\n",
       "    <tr>\n",
       "      <th>0</th>\n",
       "      <td>1</td>\n",
       "      <td>0.991503</td>\n",
       "      <td>1.673077</td>\n",
       "    </tr>\n",
       "    <tr>\n",
       "      <th>1</th>\n",
       "      <td>2</td>\n",
       "      <td>1.516567</td>\n",
       "      <td>1.673077</td>\n",
       "    </tr>\n",
       "    <tr>\n",
       "      <th>2</th>\n",
       "      <td>3</td>\n",
       "      <td>1.166402</td>\n",
       "      <td>1.673077</td>\n",
       "    </tr>\n",
       "    <tr>\n",
       "      <th>3</th>\n",
       "      <td>4</td>\n",
       "      <td>1.226923</td>\n",
       "      <td>1.673077</td>\n",
       "    </tr>\n",
       "    <tr>\n",
       "      <th>4</th>\n",
       "      <td>5</td>\n",
       "      <td>2.612783</td>\n",
       "      <td>1.673077</td>\n",
       "    </tr>\n",
       "    <tr>\n",
       "      <th>5</th>\n",
       "      <td>6</td>\n",
       "      <td>1.869863</td>\n",
       "      <td>1.673077</td>\n",
       "    </tr>\n",
       "    <tr>\n",
       "      <th>6</th>\n",
       "      <td>7</td>\n",
       "      <td>1.467571</td>\n",
       "      <td>1.673077</td>\n",
       "    </tr>\n",
       "    <tr>\n",
       "      <th>7</th>\n",
       "      <td>8</td>\n",
       "      <td>2.080722</td>\n",
       "      <td>1.673077</td>\n",
       "    </tr>\n",
       "    <tr>\n",
       "      <th>8</th>\n",
       "      <td>9</td>\n",
       "      <td>1.694283</td>\n",
       "      <td>1.673077</td>\n",
       "    </tr>\n",
       "    <tr>\n",
       "      <th>9</th>\n",
       "      <td>10</td>\n",
       "      <td>1.520383</td>\n",
       "      <td>1.673077</td>\n",
       "    </tr>\n",
       "    <tr>\n",
       "      <th>10</th>\n",
       "      <td>11</td>\n",
       "      <td>1.522962</td>\n",
       "      <td>1.673077</td>\n",
       "    </tr>\n",
       "  </tbody>\n",
       "</table>\n",
       "</div>"
      ],
      "text/plain": [
       "    Week  Rate Observed  Rate Expected\n",
       "0      1       0.991503       1.673077\n",
       "1      2       1.516567       1.673077\n",
       "2      3       1.166402       1.673077\n",
       "3      4       1.226923       1.673077\n",
       "4      5       2.612783       1.673077\n",
       "5      6       1.869863       1.673077\n",
       "6      7       1.467571       1.673077\n",
       "7      8       2.080722       1.673077\n",
       "8      9       1.694283       1.673077\n",
       "9     10       1.520383       1.673077\n",
       "10    11       1.522962       1.673077"
      ]
     },
     "execution_count": 22,
     "metadata": {},
     "output_type": "execute_result"
    }
   ],
   "source": [
    "# Num of Attempts / 6 years / 52 weeks / population mean over 6 years\n",
    "expectedPerWeek = len(df) / 6 / 52\n",
    "# Chi square tests are for values > 5\n",
    "weekComparison = pd.DataFrame({'Week' :[i for i in range(1,12)] ,'Rate Observed' : totalWeeks.mean(axis=0) * np.mean(totCampusPopL),'Rate Expected': [expectedPerWeek] * 11})\n",
    "weekComparison"
   ]
  },
  {
   "cell_type": "code",
   "execution_count": 23,
   "metadata": {},
   "outputs": [
    {
     "data": {
      "text/plain": [
       "Power_divergenceResult(statistic=1840349.2756461096, pvalue=0.0)"
      ]
     },
     "execution_count": 23,
     "metadata": {},
     "output_type": "execute_result"
    }
   ],
   "source": [
    "# exact test of goodness of fit\n",
    "stats.chisquare(weekComparison[\"Rate Observed\"], weekComparison[\"Rate Expected\"] * 100000)"
   ]
  },
  {
   "cell_type": "markdown",
   "metadata": {},
   "source": [
    "We will not be able to use chisquare in these cases since observed rates are under 5. Chi-square fails, but visually looking at the graph, we see a trend of that is discussed in our hypothesis."
   ]
  },
  {
   "cell_type": "code",
   "execution_count": 24,
   "metadata": {},
   "outputs": [],
   "source": [
    "weekday = attemptRates.copy()\n",
    "weekday.index = list(map(lambda x: x.weekday(), weekday.index))\n",
    "weekdayRates = weekday.groupby(weekday.index).mean()"
   ]
  },
  {
   "cell_type": "code",
   "execution_count": 25,
   "metadata": {},
   "outputs": [
    {
     "data": {
      "image/png": "[encoded data removed]",
      "text/plain": [
       "<Figure size 432x288 with 1 Axes>"
      ]
     },
     "metadata": {
      "needs_background": "light"
     },
     "output_type": "display_data"
    }
   ],
   "source": [
    "plt.bar([\"Mon\", \"Tues\", \"Wed\", \"Thur\", \"Fri\", \"Sat\", \"Sun\"], weekdayRates)\n",
    "plt.title(\"Suicide Attempt Rates Throughout Year (Sample)\")\n",
    "plt.show()"
   ]
  },
  {
   "cell_type": "markdown",
   "metadata": {},
   "source": [
    "To further back up our hypothesis, we decided to look at the attempts throughout the week. If our hypothesis is true, we should see a decline during the weekends, times when students are less stressed. We see a weak possibility. Perhaps this is due to using the entire year instead during active academic sessions. As such, we must get rid of the data that belong to the inactive academic times."
   ]
  },
  {
   "cell_type": "code",
   "execution_count": 26,
   "metadata": {},
   "outputs": [],
   "source": [
    "fallRates = []\n",
    "winterRates = []\n",
    "springRates = []\n",
    "for i in range(len(startFall)):\n",
    "    fallRates.append(attemptRates[(startFall[i] <= attemptRates.index) & (attemptRates.index <= endFall[i])])\n",
    "    winterRates.append(attemptRates[(startFall[i] <= attemptRates.index) & (attemptRates.index <= endFall[i])])\n",
    "    springRates.append(attemptRates[(startFall[i] <= attemptRates.index) & (attemptRates.index <= endFall[i])])"
   ]
  },
  {
   "cell_type": "code",
   "execution_count": 27,
   "metadata": {},
   "outputs": [],
   "source": [
    "total = fallRates + winterRates + springRates"
   ]
  },
  {
   "cell_type": "code",
   "execution_count": 28,
   "metadata": {},
   "outputs": [],
   "source": [
    "weekday = pd.Series()\n",
    "for quarter in total:\n",
    "    weekday = weekday.append(quarter)\n",
    "weekday.index = list(map(lambda x: x.weekday(), weekday.index))\n",
    "weekdayRates = weekday.groupby(weekday.index).mean()"
   ]
  },
  {
   "cell_type": "code",
   "execution_count": 29,
   "metadata": {},
   "outputs": [
    {
     "data": {
      "image/png": "[encoded data removed]",
      "text/plain": [
       "<Figure size 432x288 with 1 Axes>"
      ]
     },
     "metadata": {
      "needs_background": "light"
     },
     "output_type": "display_data"
    }
   ],
   "source": [
    "plt.bar([\"Mon\", \"Tues\", \"Wed\", \"Thur\", \"Fri\", \"Sat\", \"Sun\"], weekdayRates)\n",
    "plt.title(\"Suicide Attempt Rates During Academic Quarter (Sample)\")\n",
    "plt.show()"
   ]
  },
  {
   "cell_type": "markdown",
   "metadata": {},
   "source": [
    "There is a much stronger trend seen here. According to our data, a student is roughly twice as likely to attempt a suicide on a Tuesday then Sunday. Weekends are a bit lower in the attempt rates then weekdays, again presumably from stress."
   ]
  },
  {
   "cell_type": "markdown",
   "metadata": {},
   "source": [
    "## Ethics and Privacy\n",
    " \n",
    "Our topic of investigation entails rather sensitive and personal information. Mental health and suicide, while being a prominent issue that requires attention and care, is still confidential information that should only be disclosed should the person affected wish to share such information. In the crime logs, names and information are listed when an arrest is made, however Nick took the liberty of removing all mentions of names and personal information when cleaning and processing the data. It will be difficult to identify any individual information, as any identifiable information is removed. If this information were to accidentally be released to the public it would seriously jeapordize the personal lives of those involved. While the privacy of survivors is obviously of utmost concern, we are also committed to the protection of recently discharged hospital patients. Studies have shown that almost half of the patients who commit suicide do so within 90 days of being discharged from care. Though it is ultimately the patient's decision regarding what care they wish to receive, it could be beneficial if hospital staff were alerted about this sensitive period and recommended patients to continue to be monitored for a brief period after leaving intensive care.\n",
    "\n",
    "Another ethical concern regards whether by conducting this research, should the dataset collected be useful in lowering and helping prevent suicide/self harm attempts in the future, if it thereby becomes our personal responsibility to ensure that the data is used and the appropriate steps be taken to ensure that action is taken. Though we have exempted ourselves from this responsibility we still uphold the belief that should the data be beneficial, we will put our wholehearted effort into making sure it is used for good. The data is unlikely to be biased as it is provided by the UCPD, which primarily serves the UCSD community more so than the greater San Diego Community. We will ensure that all the information gathered from the police logs have a correlation to the UC system."
   ]
  },
  {
   "cell_type": "markdown",
   "metadata": {},
   "source": [
    "## Conclusions / Discussion"
   ]
  },
  {
   "cell_type": "markdown",
   "metadata": {},
   "source": [
    "College students undergo a considerable amount of stress, balancing different aspects of classes, work, student organization, internships, and personal strains. Students are pressured and strained to completely devote their lives to academics, leaving no room for personal care nor leisure time to destress. Large amounts of students develop problems related to mental health, such as issues with depression, anxiety, and isolation. According to the data collected, we can conclude that the quarter system and exams coincide with suicide attempts by students. However it was not the linear increase which we had predicted. The quarter that had the most attempts was Spring quarter, with peaks during weeks 3, 6, and 10, most likely due to midterms and final exams. According to a UCSD CAPS report from 2017, over 57% of students seen at CAPS are female and 33% are first generation students, an important topic to note because of the lack of diversity of people of color, seeing as less than 20% of all UCSD undergraduates are of African-American and Latino descent.\n",
    "\n",
    " \n",
    "There are very important factors that come into play such as academic competition, place of residence, socio-intellectual factors, and financial pressure among other stressors. This problem is not soley reliant on academic struggles but additional factors that are driving students to attempt and commit suicide when placed under this considerable amount of stress. Minorities might feel isolated and alone especially if they are first generation college students that don't know how to naviigate college life and appreciate it to it's full extent. Our research shows that students attempt suicide more during the time of exams and during the spring quarter, but it fails to show the statistics as to how many of those students are minorities and first generation students. Students who are deeply struggling in a system that they had no prior knowledge to."
   ]
  }
 ],
 "metadata": {
  "kernelspec": {
   "display_name": "Python 3",
   "language": "python",
   "name": "python3"
  },
  "language_info": {
   "codemirror_mode": {
    "name": "ipython",
    "version": 3
   },
   "file_extension": ".py",
   "mimetype": "text/x-python",
   "name": "python",
   "nbconvert_exporter": "python",
   "pygments_lexer": "ipython3",
   "version": "3.7.6"
  }
 },
 "nbformat": 4,
 "nbformat_minor": 2
}
